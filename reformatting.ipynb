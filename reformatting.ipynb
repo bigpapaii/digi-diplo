{
 "cells": [
  {
   "cell_type": "code",
   "execution_count": 5,
   "id": "1e2f00e7",
   "metadata": {},
   "outputs": [],
   "source": [
    "import sys, os, time, shutil, random\n",
    "from pathlib import Path\n",
    "# if '_cwd' not in locals():\n",
    "#     _cwd = os.getcwd()\n",
    "#     os.chdir(Path(_cwd)/'..')\n",
    "\n",
    "import numpy as np\n",
    "%matplotlib notebook\n",
    "import matplotlib.pyplot as plt\n",
    "from tabulate import tabulate\n",
    "import matplotlib.patches as mpatches\n",
    "from tqdm.notebook import tqdm\n",
    "from copy import deepcopy\n",
    "\n",
    "from omnibelt import load_yaml, save_yaml\n"
   ]
  },
  {
   "cell_type": "code",
   "execution_count": null,
   "id": "85ee0065",
   "metadata": {},
   "outputs": [],
   "source": []
  },
  {
   "cell_type": "code",
   "execution_count": 2,
   "id": "97716cfe",
   "metadata": {},
   "outputs": [],
   "source": [
    "root = Path('data/classic/')\n"
   ]
  },
  {
   "cell_type": "code",
   "execution_count": 15,
   "id": "288af89d",
   "metadata": {},
   "outputs": [
    {
     "data": {
      "text/plain": [
       "(75, 2, 122)"
      ]
     },
     "execution_count": 15,
     "metadata": {},
     "output_type": "execute_result"
    }
   ],
   "source": [
    "nodes = load_yaml(root / 'nodes.yaml')\n",
    "edges = load_yaml(root / 'edges.yaml')\n",
    "pos = load_yaml(root / 'pos.yaml')\n",
    "len(nodes), len(edges), len(pos)"
   ]
  },
  {
   "cell_type": "code",
   "execution_count": 6,
   "id": "7b80ffcf",
   "metadata": {},
   "outputs": [
    {
     "data": {
      "text/plain": [
       "75"
      ]
     },
     "execution_count": 6,
     "metadata": {},
     "output_type": "execute_result"
    }
   ],
   "source": [
    "graph = deepcopy(nodes)\n",
    "bgs = {}\n",
    "len(graph)"
   ]
  },
  {
   "cell_type": "code",
   "execution_count": 11,
   "id": "aa534ec9",
   "metadata": {},
   "outputs": [],
   "source": [
    "for ID, es in edges['army'].items():\n",
    "    node = graph[ID]\n",
    "    if 'edges' not in node:\n",
    "        node['edges'] = {'army': es.copy()}\n"
   ]
  },
  {
   "cell_type": "code",
   "execution_count": 12,
   "id": "be515c1d",
   "metadata": {},
   "outputs": [],
   "source": [
    "for ID, es in edges['fleet'].items():\n",
    "    node = graph.get(ID)\n",
    "    coast = None\n",
    "    if node is None:\n",
    "        base, coast = ID.split('-')\n",
    "        node = graph[base]\n",
    "    if 'edges' not in node:\n",
    "        node['edges'] = {}\n",
    "    if coast is None:\n",
    "        node['edges']['fleet'] = []\n",
    "        ne = node['edges']['fleet']\n",
    "    elif 'fleet' in node['edges']:\n",
    "        node['edges']['fleet'][coast] = []\n",
    "        ne = node['edges']['fleet'][coast]\n",
    "    else:\n",
    "        node['edges']['fleet'] = {coast:[]}\n",
    "        ne = node['edges']['fleet'][coast]\n",
    "    ne.extend(es)"
   ]
  },
  {
   "cell_type": "code",
   "execution_count": 19,
   "id": "7022c204",
   "metadata": {},
   "outputs": [],
   "source": [
    "for ID, pois in pos.items():\n",
    "    node = graph.get(ID)\n",
    "    coast = None\n",
    "    if node is None:\n",
    "        base, coast = ID.split('-')\n",
    "        if base == 'neutral':\n",
    "            bgs[coast] = deepcopy(pois['fill'])\n",
    "            continue\n",
    "        node = graph[base]\n",
    "    \n",
    "    if 'locs' not in node:\n",
    "        node['locs'] = {}\n",
    "    locs = node['locs']\n",
    "    if coast is None:\n",
    "        locs['unit'] = [pois['base'].copy()]\n",
    "        if 'center' in pois:\n",
    "            locs['sc'] = [pois['center'].copy()]\n",
    "        if 'retreat' in pois:\n",
    "            locs['retreat'] = [pois['retreat'].copy()]\n",
    "        if 'text' in pois:\n",
    "            locs['label'] = [pois['text'].copy()]\n",
    "    elif coast == 'c':\n",
    "        locs['coast-unit'] = [pois['base'].copy()]\n",
    "        if 'retreat' in pois:\n",
    "            locs['coast-retreat'] = [pois['retreat'].copy()]\n",
    "    else:\n",
    "        if 'coast-unit' not in locs:\n",
    "            locs['coast-unit'] = {}\n",
    "        locs['coast-unit'][coast] = [pois['base'].copy()]\n",
    "        if 'retreat' in pois:\n",
    "            if 'coast-retreat' not in locs:\n",
    "                locs['coast-retreat'] = {}\n",
    "            locs['coast-retreat'][coast] = [pois['retreat'].copy()]\n",
    "        if 'text' in pois:\n",
    "            if 'coast-label' not in locs:\n",
    "                locs['coast-label'] = {}\n",
    "            locs['coast-label'][coast] = [pois['text'].copy()]\n",
    "            \n",
    "    if 'fill' in pois:\n",
    "        node['region-coords'] = deepcopy(pois['fill'])"
   ]
  },
  {
   "cell_type": "code",
   "execution_count": null,
   "id": "90a834e5",
   "metadata": {},
   "outputs": [],
   "source": []
  },
  {
   "cell_type": "code",
   "execution_count": 23,
   "id": "0ee703f8",
   "metadata": {},
   "outputs": [
    {
     "data": {
      "text/plain": [
       "{'unit': [[957.1212823716937, 1627.102511094065]],\n",
       " 'sc': [[921.7425647433879, 1567.400925096299]],\n",
       " 'retreat': [[904.053205929235, 1580.6679442069135]],\n",
       " 'label': [[937.2207537057716, 1593.9349633175282]],\n",
       " 'coast-unit': [[946.065433112848, 1627.102511094065]],\n",
       " 'coast-retreat': [[928.3760742986951, 1638.1583603529104]]}"
      ]
     },
     "execution_count": 23,
     "metadata": {},
     "output_type": "execute_result"
    }
   ],
   "source": [
    "graph['rom']['locs']"
   ]
  },
  {
   "cell_type": "code",
   "execution_count": 24,
   "id": "fc2b2bd1",
   "metadata": {},
   "outputs": [],
   "source": [
    "# save_yaml(graph, root / 'graph.yaml')"
   ]
  },
  {
   "cell_type": "code",
   "execution_count": 25,
   "id": "526adb24",
   "metadata": {},
   "outputs": [],
   "source": [
    "# save_yaml(bgs, root / 'bgs.yaml')"
   ]
  },
  {
   "cell_type": "code",
   "execution_count": null,
   "id": "748ab4a1",
   "metadata": {},
   "outputs": [],
   "source": []
  },
  {
   "cell_type": "code",
   "execution_count": null,
   "id": "c89102c4",
   "metadata": {},
   "outputs": [],
   "source": []
  }
 ],
 "metadata": {
  "kernelspec": {
   "display_name": "Python 3",
   "language": "python",
   "name": "python3"
  },
  "language_info": {
   "codemirror_mode": {
    "name": "ipython",
    "version": 3
   },
   "file_extension": ".py",
   "mimetype": "text/x-python",
   "name": "python",
   "nbconvert_exporter": "python",
   "pygments_lexer": "ipython3",
   "version": "3.8.8"
  }
 },
 "nbformat": 4,
 "nbformat_minor": 5
}
