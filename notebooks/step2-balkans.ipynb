{
 "cells": [
  {
   "cell_type": "code",
   "execution_count": 1,
   "id": "3b090dfb",
   "metadata": {
    "pycharm": {
     "name": "#%%\n"
    }
   },
   "outputs": [
    {
     "data": {
      "text/html": [
       "<style>.container { width:90% !important; }</style>"
      ],
      "text/plain": [
       "<IPython.core.display.HTML object>"
      ]
     },
     "metadata": {},
     "output_type": "display_data"
    }
   ],
   "source": [
    "import sys, os, time, shutil, random\n",
    "from pathlib import Path\n",
    "if '_cwd' not in locals():\n",
    "    _cwd = os.getcwd()\n",
    "    os.chdir(Path(_cwd)/'..')\n",
    "\n",
    "import numpy as np\n",
    "%matplotlib notebook\n",
    "import matplotlib.pyplot as plt\n",
    "from tabulate import tabulate\n",
    "import matplotlib.patches as mpatches\n",
    "from tqdm.notebook import tqdm\n",
    "from scipy import misc, signal\n",
    "\n",
    "import torch\n",
    "from torch.nn import functional as F\n",
    "\n",
    "from sklearn.neighbors import NearestNeighbors\n",
    "import networkx as nx\n",
    "import cv2\n",
    "import random\n",
    "import ctypes\n",
    "from scipy.signal import convolve2d, correlate2d\n",
    "import ipywidgets as widgets\n",
    "from IPython.display import display, clear_output\n",
    "from collections import Counter\n",
    "import io\n",
    "from sklearn.neighbors import NearestNeighbors\n",
    "import networkx as nx\n",
    "\n",
    "from omnibelt import load_yaml, save_yaml, multi_index\n",
    "\n",
    "from skimage import data\n",
    "from skimage.filters import threshold_otsu\n",
    "from skimage.segmentation import clear_border\n",
    "from skimage.measure import label, regionprops\n",
    "from skimage.segmentation import *\n",
    "from skimage.segmentation import watershed, expand_labels\n",
    "from skimage.morphology import closing, square, dilation\n",
    "from skimage.color import label2rgb\n",
    "from PIL import Image\n",
    "from IPython.core.display import display, HTML\n",
    "display(HTML(\"<style>.container { width:90% !important; }</style>\"))"
   ]
  },
  {
   "cell_type": "code",
   "execution_count": 5,
   "id": "ea137b6b",
   "metadata": {
    "pycharm": {
     "name": "#%%\n"
    }
   },
   "outputs": [],
   "source": [
    "root = Path('extra/balkans')"
   ]
  },
  {
   "cell_type": "code",
   "execution_count": 52,
   "id": "64498f88",
   "metadata": {
    "pycharm": {
     "name": "#%%\n"
    }
   },
   "outputs": [
    {
     "data": {
      "text/plain": [
       "((4442, 4405), (4442, 4405, 3), (4442, 4405))"
      ]
     },
     "execution_count": 52,
     "metadata": {},
     "output_type": "execute_result"
    }
   ],
   "source": [
    "rgba = Image.open(root/'borders.png').convert('RGBA')\n",
    "rgba = np.asarray(rgba)\n",
    "rgb = rgba[...,:3]\n",
    "lbls = np.array(Image.open(root/'regions.png'))\n",
    "tileimg = np.array(Image.open(root/'tiles.png'))\n",
    "lbls.shape, rgb.shape, tileimg.shape"
   ]
  },
  {
   "cell_type": "code",
   "execution_count": 53,
   "id": "567f8720",
   "metadata": {
    "pycharm": {
     "name": "#%%\n"
    }
   },
   "outputs": [],
   "source": [
    "_fsize = (6,6)\n",
    "def showx(im, cover=lbls):\n",
    "    plt.figure(figsize=_fsize)\n",
    "    try:\n",
    "        plt.imshow(im.astype(int))\n",
    "        if cover is not None:\n",
    "            plt.imshow(cover%1000, alpha=0., zorder=10)\n",
    "    except ValueError:\n",
    "        plt.imshow(im)\n",
    "    \n",
    "    plt.axis('off')\n",
    "    plt.subplots_adjust(0,0,1,1)\n",
    "    \n",
    "def get_highlight(rgb, mask, opacity=0.2):\n",
    "    alpha = np.zeros_like(mask).astype(np.uint8)\n",
    "    \n",
    "    img = rgb.astype(np.uint8)\n",
    "    \n",
    "    alpha[mask!=0] = 255\n",
    "    alpha[mask==0] = int(255*opacity)\n",
    "    \n",
    "    H,W,C = img.shape\n",
    "    \n",
    "    if C == 4:\n",
    "        img[...,-1] = alpha\n",
    "    else:\n",
    "        img = np.concatenate([img, alpha.reshape(H,W,1)],-1)\n",
    "    return img\n",
    "    \n",
    "def highlight(rgb, mask, opacity=0.2, cover=lbls):\n",
    "    img = get_highlight(rgb, mask, opacity=opacity)\n",
    "    return showx(img, cover=cover)\n",
    "    \n",
    "def coords_order(coords):\n",
    "\n",
    "    clf = NearestNeighbors(n_neighbors=2).fit(coords)\n",
    "    G = clf.kneighbors_graph()\n",
    "    T = nx.from_scipy_sparse_matrix(G)\n",
    "\n",
    "    orders = [np.array(list(nx.dfs_preorder_nodes(T, min(piece))), dtype='int')\n",
    "              for piece in nx.connected_components(T)]\n",
    "    return orders\n",
    "    \n",
    "# showx(lbls)"
   ]
  },
  {
   "cell_type": "code",
   "execution_count": 54,
   "id": "1fc4fe3a",
   "metadata": {
    "scrolled": true,
    "pycharm": {
     "name": "#%%\n"
    }
   },
   "outputs": [
    {
     "data": {
      "text/plain": [
       "97"
      ]
     },
     "execution_count": 54,
     "metadata": {},
     "output_type": "execute_result"
    }
   ],
   "source": [
    "nodes = load_yaml(root/'nodes.yaml')\n",
    "# for node in nodes:\n",
    "#     node['type'] = node['env']\n",
    "nodeIDs = {node['ID']:node for node in nodes}\n",
    "len(nodes)"
   ]
  },
  {
   "cell_type": "code",
   "execution_count": 55,
   "id": "71d035d6",
   "metadata": {
    "pycharm": {
     "name": "#%%\n"
    }
   },
   "outputs": [
    {
     "data": {
      "text/plain": [
       "0"
      ]
     },
     "execution_count": 55,
     "metadata": {},
     "output_type": "execute_result"
    }
   ],
   "source": [
    "filled = expand_labels(lbls,100)\n",
    "(filled==0).sum()"
   ]
  },
  {
   "cell_type": "code",
   "execution_count": 56,
   "id": "89fa5902",
   "metadata": {
    "pycharm": {
     "name": "#%%\n"
    }
   },
   "outputs": [],
   "source": [
    "borders = find_boundaries(filled, mode='thick')\n",
    "# showx(borders)"
   ]
  },
  {
   "cell_type": "code",
   "execution_count": 57,
   "id": "ff8e9daa",
   "metadata": {
    "pycharm": {
     "name": "#%%\n"
    }
   },
   "outputs": [],
   "source": [
    "clean = filled.copy()\n",
    "clean[borders==1] = 0\n",
    "# showx(clean)"
   ]
  },
  {
   "cell_type": "code",
   "execution_count": 58,
   "id": "1267ef4b",
   "metadata": {
    "pycharm": {
     "name": "#%%\n"
    }
   },
   "outputs": [
    {
     "data": {
      "text/plain": [
       "115"
      ]
     },
     "execution_count": 58,
     "metadata": {},
     "output_type": "execute_result"
    }
   ],
   "source": [
    "regions = regionprops(lbls)\n",
    "regions.insert(0,None)\n",
    "len(regions)"
   ]
  },
  {
   "cell_type": "code",
   "execution_count": 59,
   "id": "fded4efe",
   "metadata": {
    "pycharm": {
     "name": "#%%\n"
    }
   },
   "outputs": [
    {
     "data": {
      "text/plain": [
       "154"
      ]
     },
     "execution_count": 59,
     "metadata": {},
     "output_type": "execute_result"
    }
   ],
   "source": [
    "tiles = regionprops(tileimg)\n",
    "tiles.insert(0,None)\n",
    "len(tiles)"
   ]
  },
  {
   "cell_type": "code",
   "execution_count": 60,
   "id": "ff57f364",
   "metadata": {
    "pycharm": {
     "name": "#%%\n"
    }
   },
   "outputs": [],
   "source": [
    "# plt.figure()\n",
    "# plt.hist(areas, bins=100);"
   ]
  },
  {
   "cell_type": "code",
   "execution_count": 61,
   "id": "2a70a9f0",
   "metadata": {
    "pycharm": {
     "name": "#%%\n"
    }
   },
   "outputs": [
    {
     "data": {
      "text/plain": [
       "16262"
      ]
     },
     "execution_count": 61,
     "metadata": {},
     "output_type": "execute_result"
    }
   ],
   "source": [
    "mxs = []\n",
    "for node in nodes:\n",
    "    mxs.append(max(tiles[t].area for t in node['tiles']))\n",
    "sup = min(mxs)\n",
    "sup"
   ]
  },
  {
   "cell_type": "code",
   "execution_count": 62,
   "id": "bb665695",
   "metadata": {
    "pycharm": {
     "name": "#%%\n"
    }
   },
   "outputs": [
    {
     "data": {
      "application/vnd.jupyter.widget-view+json": {
       "model_id": "a0040521bad94510951816038263c138",
       "version_major": 2,
       "version_minor": 0
      },
      "text/plain": [
       "  0%|          | 0/153 [00:00<?, ?it/s]"
      ]
     },
     "metadata": {},
     "output_type": "display_data"
    },
    {
     "data": {
      "text/plain": [
       "0"
      ]
     },
     "execution_count": 62,
     "metadata": {},
     "output_type": "execute_result"
    }
   ],
   "source": [
    "fixed = lbls.copy()\n",
    "for i, tile in tqdm(enumerate(tiles[1:]), total=len(tiles)-1):\n",
    "    i += 1\n",
    "    if tile.area < sup:\n",
    "        fixed[tileimg==i] = 0\n",
    "fixed = expand_labels(fixed,100)\n",
    "(fixed==0).sum()"
   ]
  },
  {
   "cell_type": "code",
   "execution_count": 63,
   "id": "55adda7e",
   "metadata": {
    "pycharm": {
     "name": "#%%\n"
    }
   },
   "outputs": [],
   "source": [
    "neighbors = {}"
   ]
  },
  {
   "cell_type": "code",
   "execution_count": 64,
   "id": "bc434773",
   "metadata": {
    "scrolled": true,
    "pycharm": {
     "name": "#%%\n"
    }
   },
   "outputs": [
    {
     "data": {
      "application/vnd.jupyter.widget-view+json": {
       "model_id": "0228cc679f774c89950dd6f05d54ea36",
       "version_major": 2,
       "version_minor": 0
      },
      "text/plain": [
       "  0%|          | 0/97 [00:00<?, ?it/s]"
      ]
     },
     "metadata": {},
     "output_type": "display_data"
    },
    {
     "ename": "KeyboardInterrupt",
     "evalue": "",
     "output_type": "error",
     "traceback": [
      "\u001B[1;31m---------------------------------------------------------------------------\u001B[0m",
      "\u001B[1;31mKeyboardInterrupt\u001B[0m                         Traceback (most recent call last)",
      "\u001B[1;32m<ipython-input-64-61c0b8b1fe0e>\u001B[0m in \u001B[0;36m<module>\u001B[1;34m\u001B[0m\n\u001B[0;32m      1\u001B[0m \u001B[1;32mfor\u001B[0m \u001B[0midx\u001B[0m\u001B[1;33m,\u001B[0m \u001B[0mnode\u001B[0m \u001B[1;32min\u001B[0m \u001B[0mtqdm\u001B[0m\u001B[1;33m(\u001B[0m\u001B[0mnodeIDs\u001B[0m\u001B[1;33m.\u001B[0m\u001B[0mitems\u001B[0m\u001B[1;33m(\u001B[0m\u001B[1;33m)\u001B[0m\u001B[1;33m)\u001B[0m\u001B[1;33m:\u001B[0m\u001B[1;33m\u001B[0m\u001B[1;33m\u001B[0m\u001B[0m\n\u001B[0;32m      2\u001B[0m     \u001B[1;32mif\u001B[0m \u001B[0midx\u001B[0m \u001B[1;32mnot\u001B[0m \u001B[1;32min\u001B[0m \u001B[0mneighbors\u001B[0m\u001B[1;33m:\u001B[0m\u001B[1;33m\u001B[0m\u001B[1;33m\u001B[0m\u001B[0m\n\u001B[1;32m----> 3\u001B[1;33m         \u001B[0mreg\u001B[0m \u001B[1;33m=\u001B[0m \u001B[0mregionprops\u001B[0m\u001B[1;33m(\u001B[0m\u001B[0mfind_boundaries\u001B[0m\u001B[1;33m(\u001B[0m\u001B[0mfixed\u001B[0m \u001B[1;33m==\u001B[0m \u001B[0midx\u001B[0m\u001B[1;33m,\u001B[0m \u001B[0mmode\u001B[0m\u001B[1;33m=\u001B[0m\u001B[1;34m'outer'\u001B[0m\u001B[1;33m)\u001B[0m\u001B[1;33m.\u001B[0m\u001B[0mastype\u001B[0m\u001B[1;33m(\u001B[0m\u001B[0mint\u001B[0m\u001B[1;33m)\u001B[0m\u001B[1;33m)\u001B[0m\u001B[1;33m[\u001B[0m\u001B[1;36m0\u001B[0m\u001B[1;33m]\u001B[0m\u001B[1;33m\u001B[0m\u001B[1;33m\u001B[0m\u001B[0m\n\u001B[0m\u001B[0;32m      4\u001B[0m         \u001B[0mords\u001B[0m \u001B[1;33m=\u001B[0m \u001B[0mcoords_order\u001B[0m\u001B[1;33m(\u001B[0m\u001B[0mreg\u001B[0m\u001B[1;33m.\u001B[0m\u001B[0mcoords\u001B[0m\u001B[1;33m)\u001B[0m\u001B[1;33m\u001B[0m\u001B[1;33m\u001B[0m\u001B[0m\n\u001B[0;32m      5\u001B[0m         \u001B[0mnss\u001B[0m \u001B[1;33m=\u001B[0m \u001B[1;33m[\u001B[0m\u001B[0mset\u001B[0m\u001B[1;33m(\u001B[0m\u001B[0mfixed\u001B[0m\u001B[1;33m[\u001B[0m\u001B[0mtuple\u001B[0m\u001B[1;33m(\u001B[0m\u001B[0mreg\u001B[0m\u001B[1;33m.\u001B[0m\u001B[0mcoords\u001B[0m\u001B[1;33m[\u001B[0m\u001B[0mo\u001B[0m\u001B[1;33m]\u001B[0m\u001B[1;33m.\u001B[0m\u001B[0mT\u001B[0m\u001B[1;33m)\u001B[0m\u001B[1;33m]\u001B[0m\u001B[1;33m)\u001B[0m \u001B[1;32mfor\u001B[0m \u001B[0mo\u001B[0m \u001B[1;32min\u001B[0m \u001B[0mords\u001B[0m\u001B[1;33m]\u001B[0m\u001B[1;33m\u001B[0m\u001B[1;33m\u001B[0m\u001B[0m\n",
      "\u001B[1;32m~\\anaconda3\\lib\\site-packages\\skimage\\segmentation\\boundaries.py\u001B[0m in \u001B[0;36mfind_boundaries\u001B[1;34m(label_img, connectivity, mode, background)\u001B[0m\n\u001B[0;32m    172\u001B[0m             \u001B[0minverted_background\u001B[0m \u001B[1;33m=\u001B[0m \u001B[0mnp\u001B[0m\u001B[1;33m.\u001B[0m\u001B[0marray\u001B[0m\u001B[1;33m(\u001B[0m\u001B[0mlabel_img\u001B[0m\u001B[1;33m,\u001B[0m \u001B[0mcopy\u001B[0m\u001B[1;33m=\u001B[0m\u001B[1;32mTrue\u001B[0m\u001B[1;33m)\u001B[0m\u001B[1;33m\u001B[0m\u001B[1;33m\u001B[0m\u001B[0m\n\u001B[0;32m    173\u001B[0m             \u001B[0minverted_background\u001B[0m\u001B[1;33m[\u001B[0m\u001B[0mbackground_image\u001B[0m\u001B[1;33m]\u001B[0m \u001B[1;33m=\u001B[0m \u001B[0mmax_label\u001B[0m\u001B[1;33m\u001B[0m\u001B[1;33m\u001B[0m\u001B[0m\n\u001B[1;32m--> 174\u001B[1;33m             adjacent_objects = ((dilation(label_img, selem) !=\n\u001B[0m\u001B[0;32m    175\u001B[0m                                  erosion(inverted_background, selem)) &\n\u001B[0;32m    176\u001B[0m                                 ~background_image)\n",
      "\u001B[1;32m~\\anaconda3\\lib\\site-packages\\skimage\\morphology\\misc.py\u001B[0m in \u001B[0;36mfunc_out\u001B[1;34m(image, selem, *args, **kwargs)\u001B[0m\n\u001B[0;32m     37\u001B[0m         \u001B[1;32mif\u001B[0m \u001B[0mselem\u001B[0m \u001B[1;32mis\u001B[0m \u001B[1;32mNone\u001B[0m\u001B[1;33m:\u001B[0m\u001B[1;33m\u001B[0m\u001B[1;33m\u001B[0m\u001B[0m\n\u001B[0;32m     38\u001B[0m             \u001B[0mselem\u001B[0m \u001B[1;33m=\u001B[0m \u001B[0m_default_selem\u001B[0m\u001B[1;33m(\u001B[0m\u001B[0mimage\u001B[0m\u001B[1;33m.\u001B[0m\u001B[0mndim\u001B[0m\u001B[1;33m)\u001B[0m\u001B[1;33m\u001B[0m\u001B[1;33m\u001B[0m\u001B[0m\n\u001B[1;32m---> 39\u001B[1;33m         \u001B[1;32mreturn\u001B[0m \u001B[0mfunc\u001B[0m\u001B[1;33m(\u001B[0m\u001B[0mimage\u001B[0m\u001B[1;33m,\u001B[0m \u001B[0mselem\u001B[0m\u001B[1;33m=\u001B[0m\u001B[0mselem\u001B[0m\u001B[1;33m,\u001B[0m \u001B[1;33m*\u001B[0m\u001B[0margs\u001B[0m\u001B[1;33m,\u001B[0m \u001B[1;33m**\u001B[0m\u001B[0mkwargs\u001B[0m\u001B[1;33m)\u001B[0m\u001B[1;33m\u001B[0m\u001B[1;33m\u001B[0m\u001B[0m\n\u001B[0m\u001B[0;32m     40\u001B[0m \u001B[1;33m\u001B[0m\u001B[0m\n\u001B[0;32m     41\u001B[0m     \u001B[1;32mreturn\u001B[0m \u001B[0mfunc_out\u001B[0m\u001B[1;33m\u001B[0m\u001B[1;33m\u001B[0m\u001B[0m\n",
      "\u001B[1;32m~\\anaconda3\\lib\\site-packages\\skimage\\morphology\\grey.py\u001B[0m in \u001B[0;36mdilation\u001B[1;34m(image, selem, out, shift_x, shift_y)\u001B[0m\n\u001B[0;32m    249\u001B[0m     \u001B[1;32mif\u001B[0m \u001B[0mout\u001B[0m \u001B[1;32mis\u001B[0m \u001B[1;32mNone\u001B[0m\u001B[1;33m:\u001B[0m\u001B[1;33m\u001B[0m\u001B[1;33m\u001B[0m\u001B[0m\n\u001B[0;32m    250\u001B[0m         \u001B[0mout\u001B[0m \u001B[1;33m=\u001B[0m \u001B[0mnp\u001B[0m\u001B[1;33m.\u001B[0m\u001B[0mempty_like\u001B[0m\u001B[1;33m(\u001B[0m\u001B[0mimage\u001B[0m\u001B[1;33m)\u001B[0m\u001B[1;33m\u001B[0m\u001B[1;33m\u001B[0m\u001B[0m\n\u001B[1;32m--> 251\u001B[1;33m     \u001B[0mndi\u001B[0m\u001B[1;33m.\u001B[0m\u001B[0mgrey_dilation\u001B[0m\u001B[1;33m(\u001B[0m\u001B[0mimage\u001B[0m\u001B[1;33m,\u001B[0m \u001B[0mfootprint\u001B[0m\u001B[1;33m=\u001B[0m\u001B[0mselem\u001B[0m\u001B[1;33m,\u001B[0m \u001B[0moutput\u001B[0m\u001B[1;33m=\u001B[0m\u001B[0mout\u001B[0m\u001B[1;33m)\u001B[0m\u001B[1;33m\u001B[0m\u001B[1;33m\u001B[0m\u001B[0m\n\u001B[0m\u001B[0;32m    252\u001B[0m     \u001B[1;32mreturn\u001B[0m \u001B[0mout\u001B[0m\u001B[1;33m\u001B[0m\u001B[1;33m\u001B[0m\u001B[0m\n\u001B[0;32m    253\u001B[0m \u001B[1;33m\u001B[0m\u001B[0m\n",
      "\u001B[1;32m~\\anaconda3\\lib\\site-packages\\scipy\\ndimage\\morphology.py\u001B[0m in \u001B[0;36mgrey_dilation\u001B[1;34m(input, size, footprint, structure, output, mode, cval, origin)\u001B[0m\n\u001B[0;32m   1367\u001B[0m             \u001B[0morigin\u001B[0m\u001B[1;33m[\u001B[0m\u001B[0mii\u001B[0m\u001B[1;33m]\u001B[0m \u001B[1;33m-=\u001B[0m \u001B[1;36m1\u001B[0m\u001B[1;33m\u001B[0m\u001B[1;33m\u001B[0m\u001B[0m\n\u001B[0;32m   1368\u001B[0m \u001B[1;33m\u001B[0m\u001B[0m\n\u001B[1;32m-> 1369\u001B[1;33m     return filters._min_or_max_filter(input, size, footprint, structure,\n\u001B[0m\u001B[0;32m   1370\u001B[0m                                       output, mode, cval, origin, 0)\n\u001B[0;32m   1371\u001B[0m \u001B[1;33m\u001B[0m\u001B[0m\n",
      "\u001B[1;32m~\\anaconda3\\lib\\site-packages\\scipy\\ndimage\\filters.py\u001B[0m in \u001B[0;36m_min_or_max_filter\u001B[1;34m(input, size, footprint, structure, output, mode, cval, origin, minimum)\u001B[0m\n\u001B[0;32m   1125\u001B[0m         \u001B[1;32mif\u001B[0m \u001B[0mlen\u001B[0m\u001B[1;33m(\u001B[0m\u001B[0maxes\u001B[0m\u001B[1;33m)\u001B[0m \u001B[1;33m>\u001B[0m \u001B[1;36m0\u001B[0m\u001B[1;33m:\u001B[0m\u001B[1;33m\u001B[0m\u001B[1;33m\u001B[0m\u001B[0m\n\u001B[0;32m   1126\u001B[0m             \u001B[1;32mfor\u001B[0m \u001B[0maxis\u001B[0m\u001B[1;33m,\u001B[0m \u001B[0msize\u001B[0m\u001B[1;33m,\u001B[0m \u001B[0morigin\u001B[0m\u001B[1;33m,\u001B[0m \u001B[0mmode\u001B[0m \u001B[1;32min\u001B[0m \u001B[0maxes\u001B[0m\u001B[1;33m:\u001B[0m\u001B[1;33m\u001B[0m\u001B[1;33m\u001B[0m\u001B[0m\n\u001B[1;32m-> 1127\u001B[1;33m                 \u001B[0mfilter_\u001B[0m\u001B[1;33m(\u001B[0m\u001B[0minput\u001B[0m\u001B[1;33m,\u001B[0m \u001B[0mint\u001B[0m\u001B[1;33m(\u001B[0m\u001B[0msize\u001B[0m\u001B[1;33m)\u001B[0m\u001B[1;33m,\u001B[0m \u001B[0maxis\u001B[0m\u001B[1;33m,\u001B[0m \u001B[0moutput\u001B[0m\u001B[1;33m,\u001B[0m \u001B[0mmode\u001B[0m\u001B[1;33m,\u001B[0m \u001B[0mcval\u001B[0m\u001B[1;33m,\u001B[0m \u001B[0morigin\u001B[0m\u001B[1;33m)\u001B[0m\u001B[1;33m\u001B[0m\u001B[1;33m\u001B[0m\u001B[0m\n\u001B[0m\u001B[0;32m   1128\u001B[0m                 \u001B[0minput\u001B[0m \u001B[1;33m=\u001B[0m \u001B[0moutput\u001B[0m\u001B[1;33m\u001B[0m\u001B[1;33m\u001B[0m\u001B[0m\n\u001B[0;32m   1129\u001B[0m         \u001B[1;32melse\u001B[0m\u001B[1;33m:\u001B[0m\u001B[1;33m\u001B[0m\u001B[1;33m\u001B[0m\u001B[0m\n",
      "\u001B[1;32m~\\anaconda3\\lib\\site-packages\\scipy\\ndimage\\filters.py\u001B[0m in \u001B[0;36mmaximum_filter1d\u001B[1;34m(input, size, axis, output, mode, cval, origin)\u001B[0m\n\u001B[0;32m   1072\u001B[0m         \u001B[1;32mraise\u001B[0m \u001B[0mValueError\u001B[0m\u001B[1;33m(\u001B[0m\u001B[1;34m'invalid origin'\u001B[0m\u001B[1;33m)\u001B[0m\u001B[1;33m\u001B[0m\u001B[1;33m\u001B[0m\u001B[0m\n\u001B[0;32m   1073\u001B[0m     \u001B[0mmode\u001B[0m \u001B[1;33m=\u001B[0m \u001B[0m_ni_support\u001B[0m\u001B[1;33m.\u001B[0m\u001B[0m_extend_mode_to_code\u001B[0m\u001B[1;33m(\u001B[0m\u001B[0mmode\u001B[0m\u001B[1;33m)\u001B[0m\u001B[1;33m\u001B[0m\u001B[1;33m\u001B[0m\u001B[0m\n\u001B[1;32m-> 1074\u001B[1;33m     _nd_image.min_or_max_filter1d(input, size, axis, output, mode, cval,\n\u001B[0m\u001B[0;32m   1075\u001B[0m                                   origin, 0)\n\u001B[0;32m   1076\u001B[0m     \u001B[1;32mreturn\u001B[0m \u001B[0moutput\u001B[0m\u001B[1;33m\u001B[0m\u001B[1;33m\u001B[0m\u001B[0m\n",
      "\u001B[1;31mKeyboardInterrupt\u001B[0m: "
     ]
    }
   ],
   "source": [
    "for idx, node in tqdm(nodeIDs.items()):\n",
    "    if idx not in neighbors:\n",
    "        reg = regionprops(find_boundaries(fixed == idx, mode='outer').astype(int))[0]\n",
    "        ords = coords_order(reg.coords)\n",
    "        nss = [set(fixed[tuple(reg.coords[o].T)]) for o in ords]\n",
    "\n",
    "        ans = set()\n",
    "        nts = []\n",
    "        for i, ns in enumerate(nss):\n",
    "            ns = {n for n in ns if n not in ans and n in nodeIDs}\n",
    "            ans.update(ns)\n",
    "            if len(ns):\n",
    "                nts.append(ns)\n",
    "        neighbors[idx] = nts"
   ]
  },
  {
   "cell_type": "code",
   "execution_count": 65,
   "id": "0488b723",
   "metadata": {
    "pycharm": {
     "name": "#%%\n"
    }
   },
   "outputs": [],
   "source": [
    "neighbors = {1: [{17, 2, 11, 13}], 2: [{1, 3, 17, 7}], 3: [{2, 4, 7, 8, 12}], 4: [{8, 9, 3, 5}], 5: [{9, 10, 4, 6}], 6: [{10, 5}], 7: [{17, 2, 3, 12}], 8: [{3, 4, 9, 12, 14}], 9: [{4, 5, 8, 10, 14, 16}], 10: [{5, 6, 9, 15, 16}], 11: [{1, 13, 23, 24, 31}], 12: [{3, 7, 8, 14, 17, 19}], 13: [{1, 11, 17, 23}], 14: [{8, 9, 12, 16, 18, 19, 20}], 15: [{16, 10, 35, 21}], 16: [{9, 10, 14, 15, 18, 21}], 17: [{1, 2, 7, 12, 13, 19, 22, 23, 26, 27, 28}], 18: [{14, 16, 20, 21, 25}], 19: [{12, 14, 17, 20, 22, 29}], 20: [{33, 14, 18, 19, 25, 29}], 21: [{35, 40, 43, 15, 16, 18, 25}], 22: [{17, 19, 28, 29, 30}], 23: [{37, 39, 11, 13, 17, 26, 31}], 24: [{39, 42, 11, 46, 58, 31}], 25: [{33, 40, 18, 20, 21}], 26: [{32, 37, 17, 23, 27}], 27: [{32, 17, 26, 28}], 28: [{32, 34, 38, 41, 17, 22, 27, 30}], 29: [{33, 36, 19, 20, 22, 30}], 30: [{34, 36, 22, 28, 29}], 31: [{24, 11, 23, 39}], 32: [{37, 41, 44, 26, 27, 28}], 33: [{36, 40, 45, 50, 20, 25, 29}], 34: [{36, 38, 45, 49, 28, 30}], 35: [{43, 68, 21, 15}], 36: [{33, 34, 45, 29, 30}], 37: [{32, 39, 42, 44, 46, 47, 23, 26}], 38: [{34, 41, 48, 49, 28}], 39: [{37, 42, 23, 24, 31}], 40: [{33, 43, 50, 21, 25}], 41: [{32, 38, 44, 48, 28}], 42: [{24, 37, 46, 39}], 43: [{35, 67, 68, 71, 40, 50, 21, 54, 63}], 44: [{32, 37, 41, 47, 48, 51}], 45: [{33, 34, 36, 49, 50, 52, 56}], 46: [{37, 42, 47, 53, 24, 58}], 47: [{37, 44, 46, 51, 53, 57, 61}], 48: [{38, 41, 44, 49, 51}], 49: [{34, 38, 45, 48, 51, 52, 55}], 50: [{33, 40, 43, 45, 54, 56, 59}], 51: [{70, 44, 47, 48, 49, 55, 60, 61}], 52: [{45, 49, 55, 56, 62}], 53: [{64, 65, 46, 47, 57, 58}], 54: [{43, 50, 59, 63}], 55: [{69, 49, 51, 52, 60, 62}], 56: [{45, 50, 52, 59, 62}], 57: [{65, 61, 53, 47}], 58: [{64, 75, 76, 46, 53, 24}], 59: [{66, 74, 50, 54, 56, 62, 63}], 60: [{51, 69, 70, 55}], 61: [{65, 70, 72, 73, 47, 51, 57}], 62: [{69, 74, 52, 55, 56, 59}], 63: [{66, 67, 71, 43, 54, 59}], 64: [{65, 72, 75, 53, 58}], 65: [{64, 72, 53, 57, 61}], 66: [{74, 59, 63, 71}], 67: [{43, 63, 71}], 68: [{35, 71, 43, 81, 83}], 69: [{70, 74, 77, 78, 80, 55, 60, 62}], 70: [{69, 73, 80, 51, 60, 61}], 71: [{66, 67, 68, 74, 43, 81, 63}], 72: [{64, 65, 73, 75, 79, 61}], 73: [{70, 72, 79, 80, 82, 85, 86, 61}], 74: [{66, 69, 71, 78, 81, 87, 88, 59, 62}], 75: [{64, 72, 76, 79, 58}], 76: [{58, 75, 79, 82, 89, 90}], 77: [{80, 69, 78}], 78: [{69, 74, 77, 80, 84, 86, 87, 91, 92, 94}], 79: [{72, 73, 75, 76, 82}], 80: [{69, 70, 73, 77, 78, 84, 86}], 81: [{68, 71, 74, 83, 88, 93}], 82: [{73, 76, 79, 85, 89}], 83: [{81, 68, 93, 95}], 84: [{80, 78, 86}], 85: [{73, 82, 86, 89, 94}], 86: [{73, 78, 80, 84, 85, 94}], 87: [{88, 74, 91, 78}], 88: [{74, 81, 87, 91, 93, 95}], 89: [{96, 97, 76, 82, 85, 90, 91, 94}], 90: [{89, 76}], 91: [{97, 78, 87, 88, 89, 92, 94}], 92: [{78, 91, 94}], 93: [{88, 81, 83, 95}], 94: [{78, 85, 86, 89, 91, 92}], 95: [{88, 83, 93}], 96: [{89, 97}], 97: [{96, 89, 91}]}\n",
    "# print(neighbors)"
   ]
  },
  {
   "cell_type": "code",
   "execution_count": 66,
   "id": "ac72c214",
   "metadata": {
    "scrolled": true,
    "pycharm": {
     "name": "#%%\n"
    }
   },
   "outputs": [
    {
     "data": {
      "text/plain": [
       "97"
      ]
     },
     "execution_count": 66,
     "metadata": {},
     "output_type": "execute_result"
    }
   ],
   "source": [
    "ntx = {idx:{n for ns in nss for n in ns} for idx, nss in neighbors.items()}\n",
    "len(ntx)"
   ]
  },
  {
   "cell_type": "code",
   "execution_count": 68,
   "id": "a43c7447",
   "metadata": {
    "pycharm": {
     "name": "#%%\n"
    }
   },
   "outputs": [
    {
     "data": {
      "text/plain": [
       "14"
      ]
     },
     "execution_count": 68,
     "metadata": {},
     "output_type": "execute_result"
    }
   ],
   "source": [
    "seanet = {i:{n for n in ntx[i] if nodeIDs[n]['env'] == 'sea'} for i, node in nodeIDs.items() if node['env'] == 'sea'}\n",
    "len(seanet)"
   ]
  },
  {
   "cell_type": "code",
   "execution_count": 143,
   "id": "98d5dda9",
   "metadata": {
    "pycharm": {
     "name": "#%%\n"
    }
   },
   "outputs": [
    {
     "data": {
      "application/vnd.jupyter.widget-view+json": {
       "model_id": "258993d2dcf7446ba28a87e97a4cd372",
       "version_major": 2,
       "version_minor": 0
      },
      "text/plain": [
       "  0%|          | 0/97 [00:00<?, ?it/s]"
      ]
     },
     "metadata": {},
     "output_type": "display_data"
    },
    {
     "data": {
      "text/plain": [
       "97"
      ]
     },
     "execution_count": 143,
     "metadata": {},
     "output_type": "execute_result"
    }
   ],
   "source": [
    "edges = {}\n",
    "for idx in tqdm([i for i in nodeIDs if i not in edges]):\n",
    "    node = nodeIDs[idx]\n",
    "    ns = ntx[idx]\n",
    "    es = {}\n",
    "    \n",
    "    seas = {n for n in ns if nodeIDs[n]['type'] == 'sea'}\n",
    "    if node['type'] == 'sea':\n",
    "        es['fleet'] = set(ns)\n",
    "    else:\n",
    "        es['army'] = set(ns-seas)\n",
    "        if len(seas):\n",
    "            node['type'] = 'coast'\n",
    "            coasts = []\n",
    "            while len(seas):\n",
    "                sea = seas.pop()\n",
    "                \n",
    "                for coast in coasts:\n",
    "                    if coast.intersection(ntx[sea]):\n",
    "                        coast.add(sea)\n",
    "                        break\n",
    "                else:\n",
    "                    coasts.append({sea})\n",
    "            \n",
    "            if len(coasts) > 1:\n",
    "                joined = [coasts[0]]\n",
    "                for coast in coasts[1:]:\n",
    "                    seeds = {n for s in coast for n in ntx[s] if nodeIDs[n]['type'] == 'sea'}\n",
    "                    for sel in joined:\n",
    "                        if seeds.intersection(sel):\n",
    "                            sel.update(coast)\n",
    "                            break\n",
    "                    else:\n",
    "                        joined.append(coast)\n",
    "                coasts = joined\n",
    "                \n",
    "            lands = [{l for c in coast for l in ntx[c] if l in ns and nodeIDs[l]['type'] != 'sea'} for coast in coasts]\n",
    "            fleet = {i:{*f, *a} for i,(f,a) in enumerate(zip(coasts,lands))}\n",
    "            es['fleet'] = fleet[0] if len(fleet) == 1 else fleet\n",
    "    edges[idx] = es\n",
    "    \n",
    "len(edges)\n",
    "\n",
    "# edges = {}\n",
    "# for idx in tqdm([i for i in nodeIDs if i not in edges]):\n",
    "#     node = nodeIDs[idx]\n",
    "#     ns = ntx[idx]\n",
    "#     es = {}\n",
    "    \n",
    "#     seas = {n for n in ns if n in seanet}\n",
    "#     if node['env'] == 'sea':\n",
    "#         node['type'] = 'sea'\n",
    "#         es['fleet'] = set(ns)\n",
    "#     else:\n",
    "#         node['type'] = 'land'\n",
    "#         es['army'] = set(ns-seas)\n",
    "#         if len(seas):\n",
    "#             node['type'] = 'coast'\n",
    "#             coasts = []\n",
    "#             while len(seas): # TODO: check for a peninsula\n",
    "#                 sea = seas.pop()\n",
    "#                 overlap = seas.intersection(seanet[sea])\n",
    "#                 overlap.add(sea)\n",
    "#                 for coast in coasts:\n",
    "#                     if len(overlap.intersection(coast)):\n",
    "#                         coast.update(overlap)\n",
    "#                 else:\n",
    "#                     coasts.append(overlap)\n",
    "#                 if idx == 81:\n",
    "#                     print(sea, overlap, seas, coasts)\n",
    "#                 seas = set(seas - overlap)\n",
    "#             for coast in coasts:\n",
    "#                 coast.update({n for c in coast for n in ntx[c]}.intersection(es['army']))\n",
    "#             coasts = [c for c in coasts if len(c)]\n",
    "#             es['fleet'] = coasts[0] if len(coasts) == 1 else coasts\n",
    "#     edges[idx] = es\n",
    "    \n",
    "# len(edges)"
   ]
  },
  {
   "cell_type": "code",
   "execution_count": 144,
   "id": "7827d4b2",
   "metadata": {
    "pycharm": {
     "name": "#%%\n"
    }
   },
   "outputs": [],
   "source": [
    "# idx = 10\n",
    "# print(nodeIDs[idx])\n",
    "# print(edges[idx])\n",
    "# highlight(rgb, lbls==idx)"
   ]
  },
  {
   "cell_type": "code",
   "execution_count": 145,
   "id": "7dec1341",
   "metadata": {
    "pycharm": {
     "name": "#%%\n"
    }
   },
   "outputs": [],
   "source": [
    "# manual edges\n",
    "edges[94] = {'army': {92, 85, 86}, 'fleet': [{86, 78, 92}, {85, 89}]}\n",
    "edges[63] = {'army': {54, 59, 66, 67}, 'fleet': [{54, 43, 67}, {67, 71, 66}]}\n",
    "edges[68] = {'army': {67, 83, 81}, 'fleet': [{35, 43, 67}, {67, 71, 81}]}\n",
    "edges[89]['fleet'].add(91)\n",
    "edges[91]['fleet'].add(89)\n",
    "edges[83]['army'].add(6)\n",
    "edges[6]['army'].add(83)\n",
    "edges[68]['army'].add(67)\n",
    "edges[67]['army'].add(68)\n",
    "edges[97]['fleet'].update({89, 91})\n",
    "edges[89]['fleet'].add(97)\n",
    "edges[91]['fleet'].add(97)\n",
    "edges[87]['fleet'] = {78, 74, 91, 88}"
   ]
  },
  {
   "cell_type": "code",
   "execution_count": 146,
   "id": "7219cec8",
   "metadata": {
    "pycharm": {
     "name": "#%%\n"
    }
   },
   "outputs": [],
   "source": [
    "assignments = {94: {0: 'ec', 1: 'wc'}, 63: {0: 'nc', 1: 'sc'}, 68: {0: 'nc', 1: 'sc'}, }"
   ]
  },
  {
   "cell_type": "code",
   "execution_count": 147,
   "id": "b24d1cdf",
   "metadata": {
    "pycharm": {
     "name": "#%%\n"
    }
   },
   "outputs": [],
   "source": [
    "for idx, node in nodeIDs.items():\n",
    "    node['edges'] = {t:[('{}-{}'.format(nodeIDs[e[0]]['name'], assignments[e[0]][e[1]]) \n",
    "                         if isinstance(e, tuple) else nodeIDs[e]['name']) \n",
    "                        for e in es]\n",
    "                     for t, es in edges[idx].items() if not (isinstance(es, list) and len(es) > 1)}\n",
    "    if 'fleet' in edges[idx] and isinstance(edges[idx]['fleet'], list) and len(edges[idx]['fleet']) > 1:\n",
    "        node['edges']['fleet'] = {assignments[idx][k]: [('{}-{}'.format(nodeIDs[e[0]]['name'], assignments[e[0]][e[1]]) \n",
    "                                                         if isinstance(e, tuple) \n",
    "                                                         else nodeIDs[e]['name']) \n",
    "                                                        for e in es] for k,es in enumerate(edges[idx]['fleet'])}"
   ]
  },
  {
   "cell_type": "code",
   "execution_count": 148,
   "id": "7b74a740",
   "metadata": {
    "pycharm": {
     "name": "#%%\n"
    }
   },
   "outputs": [
    {
     "data": {
      "text/plain": [
       "97"
      ]
     },
     "execution_count": 148,
     "metadata": {},
     "output_type": "execute_result"
    }
   ],
   "source": [
    "graph = {node['name']: node for node in nodes}\n",
    "len(graph)"
   ]
  },
  {
   "cell_type": "code",
   "execution_count": 149,
   "id": "36353868",
   "metadata": {
    "pycharm": {
     "name": "#%%\n"
    }
   },
   "outputs": [
    {
     "data": {
      "application/javascript": [
       "/* Put everything inside the global mpl namespace */\n",
       "/* global mpl */\n",
       "window.mpl = {};\n",
       "\n",
       "mpl.get_websocket_type = function () {\n",
       "    if (typeof WebSocket !== 'undefined') {\n",
       "        return WebSocket;\n",
       "    } else if (typeof MozWebSocket !== 'undefined') {\n",
       "        return MozWebSocket;\n",
       "    } else {\n",
       "        alert(\n",
       "            'Your browser does not have WebSocket support. ' +\n",
       "                'Please try Chrome, Safari or Firefox ≥ 6. ' +\n",
       "                'Firefox 4 and 5 are also supported but you ' +\n",
       "                'have to enable WebSockets in about:config.'\n",
       "        );\n",
       "    }\n",
       "};\n",
       "\n",
       "mpl.figure = function (figure_id, websocket, ondownload, parent_element) {\n",
       "    this.id = figure_id;\n",
       "\n",
       "    this.ws = websocket;\n",
       "\n",
       "    this.supports_binary = this.ws.binaryType !== undefined;\n",
       "\n",
       "    if (!this.supports_binary) {\n",
       "        var warnings = document.getElementById('mpl-warnings');\n",
       "        if (warnings) {\n",
       "            warnings.style.display = 'block';\n",
       "            warnings.textContent =\n",
       "                'This browser does not support binary websocket messages. ' +\n",
       "                'Performance may be slow.';\n",
       "        }\n",
       "    }\n",
       "\n",
       "    this.imageObj = new Image();\n",
       "\n",
       "    this.context = undefined;\n",
       "    this.message = undefined;\n",
       "    this.canvas = undefined;\n",
       "    this.rubberband_canvas = undefined;\n",
       "    this.rubberband_context = undefined;\n",
       "    this.format_dropdown = undefined;\n",
       "\n",
       "    this.image_mode = 'full';\n",
       "\n",
       "    this.root = document.createElement('div');\n",
       "    this.root.setAttribute('style', 'display: inline-block');\n",
       "    this._root_extra_style(this.root);\n",
       "\n",
       "    parent_element.appendChild(this.root);\n",
       "\n",
       "    this._init_header(this);\n",
       "    this._init_canvas(this);\n",
       "    this._init_toolbar(this);\n",
       "\n",
       "    var fig = this;\n",
       "\n",
       "    this.waiting = false;\n",
       "\n",
       "    this.ws.onopen = function () {\n",
       "        fig.send_message('supports_binary', { value: fig.supports_binary });\n",
       "        fig.send_message('send_image_mode', {});\n",
       "        if (fig.ratio !== 1) {\n",
       "            fig.send_message('set_dpi_ratio', { dpi_ratio: fig.ratio });\n",
       "        }\n",
       "        fig.send_message('refresh', {});\n",
       "    };\n",
       "\n",
       "    this.imageObj.onload = function () {\n",
       "        if (fig.image_mode === 'full') {\n",
       "            // Full images could contain transparency (where diff images\n",
       "            // almost always do), so we need to clear the canvas so that\n",
       "            // there is no ghosting.\n",
       "            fig.context.clearRect(0, 0, fig.canvas.width, fig.canvas.height);\n",
       "        }\n",
       "        fig.context.drawImage(fig.imageObj, 0, 0);\n",
       "    };\n",
       "\n",
       "    this.imageObj.onunload = function () {\n",
       "        fig.ws.close();\n",
       "    };\n",
       "\n",
       "    this.ws.onmessage = this._make_on_message_function(this);\n",
       "\n",
       "    this.ondownload = ondownload;\n",
       "};\n",
       "\n",
       "mpl.figure.prototype._init_header = function () {\n",
       "    var titlebar = document.createElement('div');\n",
       "    titlebar.classList =\n",
       "        'ui-dialog-titlebar ui-widget-header ui-corner-all ui-helper-clearfix';\n",
       "    var titletext = document.createElement('div');\n",
       "    titletext.classList = 'ui-dialog-title';\n",
       "    titletext.setAttribute(\n",
       "        'style',\n",
       "        'width: 100%; text-align: center; padding: 3px;'\n",
       "    );\n",
       "    titlebar.appendChild(titletext);\n",
       "    this.root.appendChild(titlebar);\n",
       "    this.header = titletext;\n",
       "};\n",
       "\n",
       "mpl.figure.prototype._canvas_extra_style = function (_canvas_div) {};\n",
       "\n",
       "mpl.figure.prototype._root_extra_style = function (_canvas_div) {};\n",
       "\n",
       "mpl.figure.prototype._init_canvas = function () {\n",
       "    var fig = this;\n",
       "\n",
       "    var canvas_div = (this.canvas_div = document.createElement('div'));\n",
       "    canvas_div.setAttribute(\n",
       "        'style',\n",
       "        'border: 1px solid #ddd;' +\n",
       "            'box-sizing: content-box;' +\n",
       "            'clear: both;' +\n",
       "            'min-height: 1px;' +\n",
       "            'min-width: 1px;' +\n",
       "            'outline: 0;' +\n",
       "            'overflow: hidden;' +\n",
       "            'position: relative;' +\n",
       "            'resize: both;'\n",
       "    );\n",
       "\n",
       "    function on_keyboard_event_closure(name) {\n",
       "        return function (event) {\n",
       "            return fig.key_event(event, name);\n",
       "        };\n",
       "    }\n",
       "\n",
       "    canvas_div.addEventListener(\n",
       "        'keydown',\n",
       "        on_keyboard_event_closure('key_press')\n",
       "    );\n",
       "    canvas_div.addEventListener(\n",
       "        'keyup',\n",
       "        on_keyboard_event_closure('key_release')\n",
       "    );\n",
       "\n",
       "    this._canvas_extra_style(canvas_div);\n",
       "    this.root.appendChild(canvas_div);\n",
       "\n",
       "    var canvas = (this.canvas = document.createElement('canvas'));\n",
       "    canvas.classList.add('mpl-canvas');\n",
       "    canvas.setAttribute('style', 'box-sizing: content-box;');\n",
       "\n",
       "    this.context = canvas.getContext('2d');\n",
       "\n",
       "    var backingStore =\n",
       "        this.context.backingStorePixelRatio ||\n",
       "        this.context.webkitBackingStorePixelRatio ||\n",
       "        this.context.mozBackingStorePixelRatio ||\n",
       "        this.context.msBackingStorePixelRatio ||\n",
       "        this.context.oBackingStorePixelRatio ||\n",
       "        this.context.backingStorePixelRatio ||\n",
       "        1;\n",
       "\n",
       "    this.ratio = (window.devicePixelRatio || 1) / backingStore;\n",
       "\n",
       "    var rubberband_canvas = (this.rubberband_canvas = document.createElement(\n",
       "        'canvas'\n",
       "    ));\n",
       "    rubberband_canvas.setAttribute(\n",
       "        'style',\n",
       "        'box-sizing: content-box; position: absolute; left: 0; top: 0; z-index: 1;'\n",
       "    );\n",
       "\n",
       "    // Apply a ponyfill if ResizeObserver is not implemented by browser.\n",
       "    if (this.ResizeObserver === undefined) {\n",
       "        if (window.ResizeObserver !== undefined) {\n",
       "            this.ResizeObserver = window.ResizeObserver;\n",
       "        } else {\n",
       "            var obs = _JSXTOOLS_RESIZE_OBSERVER({});\n",
       "            this.ResizeObserver = obs.ResizeObserver;\n",
       "        }\n",
       "    }\n",
       "\n",
       "    this.resizeObserverInstance = new this.ResizeObserver(function (entries) {\n",
       "        var nentries = entries.length;\n",
       "        for (var i = 0; i < nentries; i++) {\n",
       "            var entry = entries[i];\n",
       "            var width, height;\n",
       "            if (entry.contentBoxSize) {\n",
       "                if (entry.contentBoxSize instanceof Array) {\n",
       "                    // Chrome 84 implements new version of spec.\n",
       "                    width = entry.contentBoxSize[0].inlineSize;\n",
       "                    height = entry.contentBoxSize[0].blockSize;\n",
       "                } else {\n",
       "                    // Firefox implements old version of spec.\n",
       "                    width = entry.contentBoxSize.inlineSize;\n",
       "                    height = entry.contentBoxSize.blockSize;\n",
       "                }\n",
       "            } else {\n",
       "                // Chrome <84 implements even older version of spec.\n",
       "                width = entry.contentRect.width;\n",
       "                height = entry.contentRect.height;\n",
       "            }\n",
       "\n",
       "            // Keep the size of the canvas and rubber band canvas in sync with\n",
       "            // the canvas container.\n",
       "            if (entry.devicePixelContentBoxSize) {\n",
       "                // Chrome 84 implements new version of spec.\n",
       "                canvas.setAttribute(\n",
       "                    'width',\n",
       "                    entry.devicePixelContentBoxSize[0].inlineSize\n",
       "                );\n",
       "                canvas.setAttribute(\n",
       "                    'height',\n",
       "                    entry.devicePixelContentBoxSize[0].blockSize\n",
       "                );\n",
       "            } else {\n",
       "                canvas.setAttribute('width', width * fig.ratio);\n",
       "                canvas.setAttribute('height', height * fig.ratio);\n",
       "            }\n",
       "            canvas.setAttribute(\n",
       "                'style',\n",
       "                'width: ' + width + 'px; height: ' + height + 'px;'\n",
       "            );\n",
       "\n",
       "            rubberband_canvas.setAttribute('width', width);\n",
       "            rubberband_canvas.setAttribute('height', height);\n",
       "\n",
       "            // And update the size in Python. We ignore the initial 0/0 size\n",
       "            // that occurs as the element is placed into the DOM, which should\n",
       "            // otherwise not happen due to the minimum size styling.\n",
       "            if (fig.ws.readyState == 1 && width != 0 && height != 0) {\n",
       "                fig.request_resize(width, height);\n",
       "            }\n",
       "        }\n",
       "    });\n",
       "    this.resizeObserverInstance.observe(canvas_div);\n",
       "\n",
       "    function on_mouse_event_closure(name) {\n",
       "        return function (event) {\n",
       "            return fig.mouse_event(event, name);\n",
       "        };\n",
       "    }\n",
       "\n",
       "    rubberband_canvas.addEventListener(\n",
       "        'mousedown',\n",
       "        on_mouse_event_closure('button_press')\n",
       "    );\n",
       "    rubberband_canvas.addEventListener(\n",
       "        'mouseup',\n",
       "        on_mouse_event_closure('button_release')\n",
       "    );\n",
       "    // Throttle sequential mouse events to 1 every 20ms.\n",
       "    rubberband_canvas.addEventListener(\n",
       "        'mousemove',\n",
       "        on_mouse_event_closure('motion_notify')\n",
       "    );\n",
       "\n",
       "    rubberband_canvas.addEventListener(\n",
       "        'mouseenter',\n",
       "        on_mouse_event_closure('figure_enter')\n",
       "    );\n",
       "    rubberband_canvas.addEventListener(\n",
       "        'mouseleave',\n",
       "        on_mouse_event_closure('figure_leave')\n",
       "    );\n",
       "\n",
       "    canvas_div.addEventListener('wheel', function (event) {\n",
       "        if (event.deltaY < 0) {\n",
       "            event.step = 1;\n",
       "        } else {\n",
       "            event.step = -1;\n",
       "        }\n",
       "        on_mouse_event_closure('scroll')(event);\n",
       "    });\n",
       "\n",
       "    canvas_div.appendChild(canvas);\n",
       "    canvas_div.appendChild(rubberband_canvas);\n",
       "\n",
       "    this.rubberband_context = rubberband_canvas.getContext('2d');\n",
       "    this.rubberband_context.strokeStyle = '#000000';\n",
       "\n",
       "    this._resize_canvas = function (width, height, forward) {\n",
       "        if (forward) {\n",
       "            canvas_div.style.width = width + 'px';\n",
       "            canvas_div.style.height = height + 'px';\n",
       "        }\n",
       "    };\n",
       "\n",
       "    // Disable right mouse context menu.\n",
       "    this.rubberband_canvas.addEventListener('contextmenu', function (_e) {\n",
       "        event.preventDefault();\n",
       "        return false;\n",
       "    });\n",
       "\n",
       "    function set_focus() {\n",
       "        canvas.focus();\n",
       "        canvas_div.focus();\n",
       "    }\n",
       "\n",
       "    window.setTimeout(set_focus, 100);\n",
       "};\n",
       "\n",
       "mpl.figure.prototype._init_toolbar = function () {\n",
       "    var fig = this;\n",
       "\n",
       "    var toolbar = document.createElement('div');\n",
       "    toolbar.classList = 'mpl-toolbar';\n",
       "    this.root.appendChild(toolbar);\n",
       "\n",
       "    function on_click_closure(name) {\n",
       "        return function (_event) {\n",
       "            return fig.toolbar_button_onclick(name);\n",
       "        };\n",
       "    }\n",
       "\n",
       "    function on_mouseover_closure(tooltip) {\n",
       "        return function (event) {\n",
       "            if (!event.currentTarget.disabled) {\n",
       "                return fig.toolbar_button_onmouseover(tooltip);\n",
       "            }\n",
       "        };\n",
       "    }\n",
       "\n",
       "    fig.buttons = {};\n",
       "    var buttonGroup = document.createElement('div');\n",
       "    buttonGroup.classList = 'mpl-button-group';\n",
       "    for (var toolbar_ind in mpl.toolbar_items) {\n",
       "        var name = mpl.toolbar_items[toolbar_ind][0];\n",
       "        var tooltip = mpl.toolbar_items[toolbar_ind][1];\n",
       "        var image = mpl.toolbar_items[toolbar_ind][2];\n",
       "        var method_name = mpl.toolbar_items[toolbar_ind][3];\n",
       "\n",
       "        if (!name) {\n",
       "            /* Instead of a spacer, we start a new button group. */\n",
       "            if (buttonGroup.hasChildNodes()) {\n",
       "                toolbar.appendChild(buttonGroup);\n",
       "            }\n",
       "            buttonGroup = document.createElement('div');\n",
       "            buttonGroup.classList = 'mpl-button-group';\n",
       "            continue;\n",
       "        }\n",
       "\n",
       "        var button = (fig.buttons[name] = document.createElement('button'));\n",
       "        button.classList = 'mpl-widget';\n",
       "        button.setAttribute('role', 'button');\n",
       "        button.setAttribute('aria-disabled', 'false');\n",
       "        button.addEventListener('click', on_click_closure(method_name));\n",
       "        button.addEventListener('mouseover', on_mouseover_closure(tooltip));\n",
       "\n",
       "        var icon_img = document.createElement('img');\n",
       "        icon_img.src = '_images/' + image + '.png';\n",
       "        icon_img.srcset = '_images/' + image + '_large.png 2x';\n",
       "        icon_img.alt = tooltip;\n",
       "        button.appendChild(icon_img);\n",
       "\n",
       "        buttonGroup.appendChild(button);\n",
       "    }\n",
       "\n",
       "    if (buttonGroup.hasChildNodes()) {\n",
       "        toolbar.appendChild(buttonGroup);\n",
       "    }\n",
       "\n",
       "    var fmt_picker = document.createElement('select');\n",
       "    fmt_picker.classList = 'mpl-widget';\n",
       "    toolbar.appendChild(fmt_picker);\n",
       "    this.format_dropdown = fmt_picker;\n",
       "\n",
       "    for (var ind in mpl.extensions) {\n",
       "        var fmt = mpl.extensions[ind];\n",
       "        var option = document.createElement('option');\n",
       "        option.selected = fmt === mpl.default_extension;\n",
       "        option.innerHTML = fmt;\n",
       "        fmt_picker.appendChild(option);\n",
       "    }\n",
       "\n",
       "    var status_bar = document.createElement('span');\n",
       "    status_bar.classList = 'mpl-message';\n",
       "    toolbar.appendChild(status_bar);\n",
       "    this.message = status_bar;\n",
       "};\n",
       "\n",
       "mpl.figure.prototype.request_resize = function (x_pixels, y_pixels) {\n",
       "    // Request matplotlib to resize the figure. Matplotlib will then trigger a resize in the client,\n",
       "    // which will in turn request a refresh of the image.\n",
       "    this.send_message('resize', { width: x_pixels, height: y_pixels });\n",
       "};\n",
       "\n",
       "mpl.figure.prototype.send_message = function (type, properties) {\n",
       "    properties['type'] = type;\n",
       "    properties['figure_id'] = this.id;\n",
       "    this.ws.send(JSON.stringify(properties));\n",
       "};\n",
       "\n",
       "mpl.figure.prototype.send_draw_message = function () {\n",
       "    if (!this.waiting) {\n",
       "        this.waiting = true;\n",
       "        this.ws.send(JSON.stringify({ type: 'draw', figure_id: this.id }));\n",
       "    }\n",
       "};\n",
       "\n",
       "mpl.figure.prototype.handle_save = function (fig, _msg) {\n",
       "    var format_dropdown = fig.format_dropdown;\n",
       "    var format = format_dropdown.options[format_dropdown.selectedIndex].value;\n",
       "    fig.ondownload(fig, format);\n",
       "};\n",
       "\n",
       "mpl.figure.prototype.handle_resize = function (fig, msg) {\n",
       "    var size = msg['size'];\n",
       "    if (size[0] !== fig.canvas.width || size[1] !== fig.canvas.height) {\n",
       "        fig._resize_canvas(size[0], size[1], msg['forward']);\n",
       "        fig.send_message('refresh', {});\n",
       "    }\n",
       "};\n",
       "\n",
       "mpl.figure.prototype.handle_rubberband = function (fig, msg) {\n",
       "    var x0 = msg['x0'] / fig.ratio;\n",
       "    var y0 = (fig.canvas.height - msg['y0']) / fig.ratio;\n",
       "    var x1 = msg['x1'] / fig.ratio;\n",
       "    var y1 = (fig.canvas.height - msg['y1']) / fig.ratio;\n",
       "    x0 = Math.floor(x0) + 0.5;\n",
       "    y0 = Math.floor(y0) + 0.5;\n",
       "    x1 = Math.floor(x1) + 0.5;\n",
       "    y1 = Math.floor(y1) + 0.5;\n",
       "    var min_x = Math.min(x0, x1);\n",
       "    var min_y = Math.min(y0, y1);\n",
       "    var width = Math.abs(x1 - x0);\n",
       "    var height = Math.abs(y1 - y0);\n",
       "\n",
       "    fig.rubberband_context.clearRect(\n",
       "        0,\n",
       "        0,\n",
       "        fig.canvas.width / fig.ratio,\n",
       "        fig.canvas.height / fig.ratio\n",
       "    );\n",
       "\n",
       "    fig.rubberband_context.strokeRect(min_x, min_y, width, height);\n",
       "};\n",
       "\n",
       "mpl.figure.prototype.handle_figure_label = function (fig, msg) {\n",
       "    // Updates the figure title.\n",
       "    fig.header.textContent = msg['label'];\n",
       "};\n",
       "\n",
       "mpl.figure.prototype.handle_cursor = function (fig, msg) {\n",
       "    var cursor = msg['cursor'];\n",
       "    switch (cursor) {\n",
       "        case 0:\n",
       "            cursor = 'pointer';\n",
       "            break;\n",
       "        case 1:\n",
       "            cursor = 'default';\n",
       "            break;\n",
       "        case 2:\n",
       "            cursor = 'crosshair';\n",
       "            break;\n",
       "        case 3:\n",
       "            cursor = 'move';\n",
       "            break;\n",
       "    }\n",
       "    fig.rubberband_canvas.style.cursor = cursor;\n",
       "};\n",
       "\n",
       "mpl.figure.prototype.handle_message = function (fig, msg) {\n",
       "    fig.message.textContent = msg['message'];\n",
       "};\n",
       "\n",
       "mpl.figure.prototype.handle_draw = function (fig, _msg) {\n",
       "    // Request the server to send over a new figure.\n",
       "    fig.send_draw_message();\n",
       "};\n",
       "\n",
       "mpl.figure.prototype.handle_image_mode = function (fig, msg) {\n",
       "    fig.image_mode = msg['mode'];\n",
       "};\n",
       "\n",
       "mpl.figure.prototype.handle_history_buttons = function (fig, msg) {\n",
       "    for (var key in msg) {\n",
       "        if (!(key in fig.buttons)) {\n",
       "            continue;\n",
       "        }\n",
       "        fig.buttons[key].disabled = !msg[key];\n",
       "        fig.buttons[key].setAttribute('aria-disabled', !msg[key]);\n",
       "    }\n",
       "};\n",
       "\n",
       "mpl.figure.prototype.handle_navigate_mode = function (fig, msg) {\n",
       "    if (msg['mode'] === 'PAN') {\n",
       "        fig.buttons['Pan'].classList.add('active');\n",
       "        fig.buttons['Zoom'].classList.remove('active');\n",
       "    } else if (msg['mode'] === 'ZOOM') {\n",
       "        fig.buttons['Pan'].classList.remove('active');\n",
       "        fig.buttons['Zoom'].classList.add('active');\n",
       "    } else {\n",
       "        fig.buttons['Pan'].classList.remove('active');\n",
       "        fig.buttons['Zoom'].classList.remove('active');\n",
       "    }\n",
       "};\n",
       "\n",
       "mpl.figure.prototype.updated_canvas_event = function () {\n",
       "    // Called whenever the canvas gets updated.\n",
       "    this.send_message('ack', {});\n",
       "};\n",
       "\n",
       "// A function to construct a web socket function for onmessage handling.\n",
       "// Called in the figure constructor.\n",
       "mpl.figure.prototype._make_on_message_function = function (fig) {\n",
       "    return function socket_on_message(evt) {\n",
       "        if (evt.data instanceof Blob) {\n",
       "            /* FIXME: We get \"Resource interpreted as Image but\n",
       "             * transferred with MIME type text/plain:\" errors on\n",
       "             * Chrome.  But how to set the MIME type?  It doesn't seem\n",
       "             * to be part of the websocket stream */\n",
       "            evt.data.type = 'image/png';\n",
       "\n",
       "            /* Free the memory for the previous frames */\n",
       "            if (fig.imageObj.src) {\n",
       "                (window.URL || window.webkitURL).revokeObjectURL(\n",
       "                    fig.imageObj.src\n",
       "                );\n",
       "            }\n",
       "\n",
       "            fig.imageObj.src = (window.URL || window.webkitURL).createObjectURL(\n",
       "                evt.data\n",
       "            );\n",
       "            fig.updated_canvas_event();\n",
       "            fig.waiting = false;\n",
       "            return;\n",
       "        } else if (\n",
       "            typeof evt.data === 'string' &&\n",
       "            evt.data.slice(0, 21) === 'data:image/png;base64'\n",
       "        ) {\n",
       "            fig.imageObj.src = evt.data;\n",
       "            fig.updated_canvas_event();\n",
       "            fig.waiting = false;\n",
       "            return;\n",
       "        }\n",
       "\n",
       "        var msg = JSON.parse(evt.data);\n",
       "        var msg_type = msg['type'];\n",
       "\n",
       "        // Call the  \"handle_{type}\" callback, which takes\n",
       "        // the figure and JSON message as its only arguments.\n",
       "        try {\n",
       "            var callback = fig['handle_' + msg_type];\n",
       "        } catch (e) {\n",
       "            console.log(\n",
       "                \"No handler for the '\" + msg_type + \"' message type: \",\n",
       "                msg\n",
       "            );\n",
       "            return;\n",
       "        }\n",
       "\n",
       "        if (callback) {\n",
       "            try {\n",
       "                // console.log(\"Handling '\" + msg_type + \"' message: \", msg);\n",
       "                callback(fig, msg);\n",
       "            } catch (e) {\n",
       "                console.log(\n",
       "                    \"Exception inside the 'handler_\" + msg_type + \"' callback:\",\n",
       "                    e,\n",
       "                    e.stack,\n",
       "                    msg\n",
       "                );\n",
       "            }\n",
       "        }\n",
       "    };\n",
       "};\n",
       "\n",
       "// from http://stackoverflow.com/questions/1114465/getting-mouse-location-in-canvas\n",
       "mpl.findpos = function (e) {\n",
       "    //this section is from http://www.quirksmode.org/js/events_properties.html\n",
       "    var targ;\n",
       "    if (!e) {\n",
       "        e = window.event;\n",
       "    }\n",
       "    if (e.target) {\n",
       "        targ = e.target;\n",
       "    } else if (e.srcElement) {\n",
       "        targ = e.srcElement;\n",
       "    }\n",
       "    if (targ.nodeType === 3) {\n",
       "        // defeat Safari bug\n",
       "        targ = targ.parentNode;\n",
       "    }\n",
       "\n",
       "    // pageX,Y are the mouse positions relative to the document\n",
       "    var boundingRect = targ.getBoundingClientRect();\n",
       "    var x = e.pageX - (boundingRect.left + document.body.scrollLeft);\n",
       "    var y = e.pageY - (boundingRect.top + document.body.scrollTop);\n",
       "\n",
       "    return { x: x, y: y };\n",
       "};\n",
       "\n",
       "/*\n",
       " * return a copy of an object with only non-object keys\n",
       " * we need this to avoid circular references\n",
       " * http://stackoverflow.com/a/24161582/3208463\n",
       " */\n",
       "function simpleKeys(original) {\n",
       "    return Object.keys(original).reduce(function (obj, key) {\n",
       "        if (typeof original[key] !== 'object') {\n",
       "            obj[key] = original[key];\n",
       "        }\n",
       "        return obj;\n",
       "    }, {});\n",
       "}\n",
       "\n",
       "mpl.figure.prototype.mouse_event = function (event, name) {\n",
       "    var canvas_pos = mpl.findpos(event);\n",
       "\n",
       "    if (name === 'button_press') {\n",
       "        this.canvas.focus();\n",
       "        this.canvas_div.focus();\n",
       "    }\n",
       "\n",
       "    var x = canvas_pos.x * this.ratio;\n",
       "    var y = canvas_pos.y * this.ratio;\n",
       "\n",
       "    this.send_message(name, {\n",
       "        x: x,\n",
       "        y: y,\n",
       "        button: event.button,\n",
       "        step: event.step,\n",
       "        guiEvent: simpleKeys(event),\n",
       "    });\n",
       "\n",
       "    /* This prevents the web browser from automatically changing to\n",
       "     * the text insertion cursor when the button is pressed.  We want\n",
       "     * to control all of the cursor setting manually through the\n",
       "     * 'cursor' event from matplotlib */\n",
       "    event.preventDefault();\n",
       "    return false;\n",
       "};\n",
       "\n",
       "mpl.figure.prototype._key_event_extra = function (_event, _name) {\n",
       "    // Handle any extra behaviour associated with a key event\n",
       "};\n",
       "\n",
       "mpl.figure.prototype.key_event = function (event, name) {\n",
       "    // Prevent repeat events\n",
       "    if (name === 'key_press') {\n",
       "        if (event.which === this._key) {\n",
       "            return;\n",
       "        } else {\n",
       "            this._key = event.which;\n",
       "        }\n",
       "    }\n",
       "    if (name === 'key_release') {\n",
       "        this._key = null;\n",
       "    }\n",
       "\n",
       "    var value = '';\n",
       "    if (event.ctrlKey && event.which !== 17) {\n",
       "        value += 'ctrl+';\n",
       "    }\n",
       "    if (event.altKey && event.which !== 18) {\n",
       "        value += 'alt+';\n",
       "    }\n",
       "    if (event.shiftKey && event.which !== 16) {\n",
       "        value += 'shift+';\n",
       "    }\n",
       "\n",
       "    value += 'k';\n",
       "    value += event.which.toString();\n",
       "\n",
       "    this._key_event_extra(event, name);\n",
       "\n",
       "    this.send_message(name, { key: value, guiEvent: simpleKeys(event) });\n",
       "    return false;\n",
       "};\n",
       "\n",
       "mpl.figure.prototype.toolbar_button_onclick = function (name) {\n",
       "    if (name === 'download') {\n",
       "        this.handle_save(this, null);\n",
       "    } else {\n",
       "        this.send_message('toolbar_button', { name: name });\n",
       "    }\n",
       "};\n",
       "\n",
       "mpl.figure.prototype.toolbar_button_onmouseover = function (tooltip) {\n",
       "    this.message.textContent = tooltip;\n",
       "};\n",
       "\n",
       "///////////////// REMAINING CONTENT GENERATED BY embed_js.py /////////////////\n",
       "// prettier-ignore\n",
       "var _JSXTOOLS_RESIZE_OBSERVER=function(A){var t,i=new WeakMap,n=new WeakMap,a=new WeakMap,r=new WeakMap,o=new Set;function s(e){if(!(this instanceof s))throw new TypeError(\"Constructor requires 'new' operator\");i.set(this,e)}function h(){throw new TypeError(\"Function is not a constructor\")}function c(e,t,i,n){e=0 in arguments?Number(arguments[0]):0,t=1 in arguments?Number(arguments[1]):0,i=2 in arguments?Number(arguments[2]):0,n=3 in arguments?Number(arguments[3]):0,this.right=(this.x=this.left=e)+(this.width=i),this.bottom=(this.y=this.top=t)+(this.height=n),Object.freeze(this)}function d(){t=requestAnimationFrame(d);var s=new WeakMap,p=new Set;o.forEach((function(t){r.get(t).forEach((function(i){var r=t instanceof window.SVGElement,o=a.get(t),d=r?0:parseFloat(o.paddingTop),f=r?0:parseFloat(o.paddingRight),l=r?0:parseFloat(o.paddingBottom),u=r?0:parseFloat(o.paddingLeft),g=r?0:parseFloat(o.borderTopWidth),m=r?0:parseFloat(o.borderRightWidth),w=r?0:parseFloat(o.borderBottomWidth),b=u+f,F=d+l,v=(r?0:parseFloat(o.borderLeftWidth))+m,W=g+w,y=r?0:t.offsetHeight-W-t.clientHeight,E=r?0:t.offsetWidth-v-t.clientWidth,R=b+v,z=F+W,M=r?t.width:parseFloat(o.width)-R-E,O=r?t.height:parseFloat(o.height)-z-y;if(n.has(t)){var k=n.get(t);if(k[0]===M&&k[1]===O)return}n.set(t,[M,O]);var S=Object.create(h.prototype);S.target=t,S.contentRect=new c(u,d,M,O),s.has(i)||(s.set(i,[]),p.add(i)),s.get(i).push(S)}))})),p.forEach((function(e){i.get(e).call(e,s.get(e),e)}))}return s.prototype.observe=function(i){if(i instanceof window.Element){r.has(i)||(r.set(i,new Set),o.add(i),a.set(i,window.getComputedStyle(i)));var n=r.get(i);n.has(this)||n.add(this),cancelAnimationFrame(t),t=requestAnimationFrame(d)}},s.prototype.unobserve=function(i){if(i instanceof window.Element&&r.has(i)){var n=r.get(i);n.has(this)&&(n.delete(this),n.size||(r.delete(i),o.delete(i))),n.size||r.delete(i),o.size||cancelAnimationFrame(t)}},A.DOMRectReadOnly=c,A.ResizeObserver=s,A.ResizeObserverEntry=h,A}; // eslint-disable-line\n",
       "mpl.toolbar_items = [[\"Home\", \"Reset original view\", \"fa fa-home icon-home\", \"home\"], [\"Back\", \"Back to previous view\", \"fa fa-arrow-left icon-arrow-left\", \"back\"], [\"Forward\", \"Forward to next view\", \"fa fa-arrow-right icon-arrow-right\", \"forward\"], [\"\", \"\", \"\", \"\"], [\"Pan\", \"Left button pans, Right button zooms\\nx/y fixes axis, CTRL fixes aspect\", \"fa fa-arrows icon-move\", \"pan\"], [\"Zoom\", \"Zoom to rectangle\\nx/y fixes axis, CTRL fixes aspect\", \"fa fa-square-o icon-check-empty\", \"zoom\"], [\"\", \"\", \"\", \"\"], [\"Download\", \"Download plot\", \"fa fa-floppy-o icon-save\", \"download\"]];\n",
       "\n",
       "mpl.extensions = [\"eps\", \"jpeg\", \"pdf\", \"png\", \"ps\", \"raw\", \"svg\", \"tif\"];\n",
       "\n",
       "mpl.default_extension = \"png\";/* global mpl */\n",
       "\n",
       "var comm_websocket_adapter = function (comm) {\n",
       "    // Create a \"websocket\"-like object which calls the given IPython comm\n",
       "    // object with the appropriate methods. Currently this is a non binary\n",
       "    // socket, so there is still some room for performance tuning.\n",
       "    var ws = {};\n",
       "\n",
       "    ws.close = function () {\n",
       "        comm.close();\n",
       "    };\n",
       "    ws.send = function (m) {\n",
       "        //console.log('sending', m);\n",
       "        comm.send(m);\n",
       "    };\n",
       "    // Register the callback with on_msg.\n",
       "    comm.on_msg(function (msg) {\n",
       "        //console.log('receiving', msg['content']['data'], msg);\n",
       "        // Pass the mpl event to the overridden (by mpl) onmessage function.\n",
       "        ws.onmessage(msg['content']['data']);\n",
       "    });\n",
       "    return ws;\n",
       "};\n",
       "\n",
       "mpl.mpl_figure_comm = function (comm, msg) {\n",
       "    // This is the function which gets called when the mpl process\n",
       "    // starts-up an IPython Comm through the \"matplotlib\" channel.\n",
       "\n",
       "    var id = msg.content.data.id;\n",
       "    // Get hold of the div created by the display call when the Comm\n",
       "    // socket was opened in Python.\n",
       "    var element = document.getElementById(id);\n",
       "    var ws_proxy = comm_websocket_adapter(comm);\n",
       "\n",
       "    function ondownload(figure, _format) {\n",
       "        window.open(figure.canvas.toDataURL());\n",
       "    }\n",
       "\n",
       "    var fig = new mpl.figure(id, ws_proxy, ondownload, element);\n",
       "\n",
       "    // Call onopen now - mpl needs it, as it is assuming we've passed it a real\n",
       "    // web socket which is closed, not our websocket->open comm proxy.\n",
       "    ws_proxy.onopen();\n",
       "\n",
       "    fig.parent_element = element;\n",
       "    fig.cell_info = mpl.find_output_cell(\"<div id='\" + id + \"'></div>\");\n",
       "    if (!fig.cell_info) {\n",
       "        console.error('Failed to find cell for figure', id, fig);\n",
       "        return;\n",
       "    }\n",
       "    fig.cell_info[0].output_area.element.on(\n",
       "        'cleared',\n",
       "        { fig: fig },\n",
       "        fig._remove_fig_handler\n",
       "    );\n",
       "};\n",
       "\n",
       "mpl.figure.prototype.handle_close = function (fig, msg) {\n",
       "    var width = fig.canvas.width / fig.ratio;\n",
       "    fig.cell_info[0].output_area.element.off(\n",
       "        'cleared',\n",
       "        fig._remove_fig_handler\n",
       "    );\n",
       "    fig.resizeObserverInstance.unobserve(fig.canvas_div);\n",
       "\n",
       "    // Update the output cell to use the data from the current canvas.\n",
       "    fig.push_to_output();\n",
       "    var dataURL = fig.canvas.toDataURL();\n",
       "    // Re-enable the keyboard manager in IPython - without this line, in FF,\n",
       "    // the notebook keyboard shortcuts fail.\n",
       "    IPython.keyboard_manager.enable();\n",
       "    fig.parent_element.innerHTML =\n",
       "        '<img src=\"' + dataURL + '\" width=\"' + width + '\">';\n",
       "    fig.close_ws(fig, msg);\n",
       "};\n",
       "\n",
       "mpl.figure.prototype.close_ws = function (fig, msg) {\n",
       "    fig.send_message('closing', msg);\n",
       "    // fig.ws.close()\n",
       "};\n",
       "\n",
       "mpl.figure.prototype.push_to_output = function (_remove_interactive) {\n",
       "    // Turn the data on the canvas into data in the output cell.\n",
       "    var width = this.canvas.width / this.ratio;\n",
       "    var dataURL = this.canvas.toDataURL();\n",
       "    this.cell_info[1]['text/html'] =\n",
       "        '<img src=\"' + dataURL + '\" width=\"' + width + '\">';\n",
       "};\n",
       "\n",
       "mpl.figure.prototype.updated_canvas_event = function () {\n",
       "    // Tell IPython that the notebook contents must change.\n",
       "    IPython.notebook.set_dirty(true);\n",
       "    this.send_message('ack', {});\n",
       "    var fig = this;\n",
       "    // Wait a second, then push the new image to the DOM so\n",
       "    // that it is saved nicely (might be nice to debounce this).\n",
       "    setTimeout(function () {\n",
       "        fig.push_to_output();\n",
       "    }, 1000);\n",
       "};\n",
       "\n",
       "mpl.figure.prototype._init_toolbar = function () {\n",
       "    var fig = this;\n",
       "\n",
       "    var toolbar = document.createElement('div');\n",
       "    toolbar.classList = 'btn-toolbar';\n",
       "    this.root.appendChild(toolbar);\n",
       "\n",
       "    function on_click_closure(name) {\n",
       "        return function (_event) {\n",
       "            return fig.toolbar_button_onclick(name);\n",
       "        };\n",
       "    }\n",
       "\n",
       "    function on_mouseover_closure(tooltip) {\n",
       "        return function (event) {\n",
       "            if (!event.currentTarget.disabled) {\n",
       "                return fig.toolbar_button_onmouseover(tooltip);\n",
       "            }\n",
       "        };\n",
       "    }\n",
       "\n",
       "    fig.buttons = {};\n",
       "    var buttonGroup = document.createElement('div');\n",
       "    buttonGroup.classList = 'btn-group';\n",
       "    var button;\n",
       "    for (var toolbar_ind in mpl.toolbar_items) {\n",
       "        var name = mpl.toolbar_items[toolbar_ind][0];\n",
       "        var tooltip = mpl.toolbar_items[toolbar_ind][1];\n",
       "        var image = mpl.toolbar_items[toolbar_ind][2];\n",
       "        var method_name = mpl.toolbar_items[toolbar_ind][3];\n",
       "\n",
       "        if (!name) {\n",
       "            /* Instead of a spacer, we start a new button group. */\n",
       "            if (buttonGroup.hasChildNodes()) {\n",
       "                toolbar.appendChild(buttonGroup);\n",
       "            }\n",
       "            buttonGroup = document.createElement('div');\n",
       "            buttonGroup.classList = 'btn-group';\n",
       "            continue;\n",
       "        }\n",
       "\n",
       "        button = fig.buttons[name] = document.createElement('button');\n",
       "        button.classList = 'btn btn-default';\n",
       "        button.href = '#';\n",
       "        button.title = name;\n",
       "        button.innerHTML = '<i class=\"fa ' + image + ' fa-lg\"></i>';\n",
       "        button.addEventListener('click', on_click_closure(method_name));\n",
       "        button.addEventListener('mouseover', on_mouseover_closure(tooltip));\n",
       "        buttonGroup.appendChild(button);\n",
       "    }\n",
       "\n",
       "    if (buttonGroup.hasChildNodes()) {\n",
       "        toolbar.appendChild(buttonGroup);\n",
       "    }\n",
       "\n",
       "    // Add the status bar.\n",
       "    var status_bar = document.createElement('span');\n",
       "    status_bar.classList = 'mpl-message pull-right';\n",
       "    toolbar.appendChild(status_bar);\n",
       "    this.message = status_bar;\n",
       "\n",
       "    // Add the close button to the window.\n",
       "    var buttongrp = document.createElement('div');\n",
       "    buttongrp.classList = 'btn-group inline pull-right';\n",
       "    button = document.createElement('button');\n",
       "    button.classList = 'btn btn-mini btn-primary';\n",
       "    button.href = '#';\n",
       "    button.title = 'Stop Interaction';\n",
       "    button.innerHTML = '<i class=\"fa fa-power-off icon-remove icon-large\"></i>';\n",
       "    button.addEventListener('click', function (_evt) {\n",
       "        fig.handle_close(fig, {});\n",
       "    });\n",
       "    button.addEventListener(\n",
       "        'mouseover',\n",
       "        on_mouseover_closure('Stop Interaction')\n",
       "    );\n",
       "    buttongrp.appendChild(button);\n",
       "    var titlebar = this.root.querySelector('.ui-dialog-titlebar');\n",
       "    titlebar.insertBefore(buttongrp, titlebar.firstChild);\n",
       "};\n",
       "\n",
       "mpl.figure.prototype._remove_fig_handler = function (event) {\n",
       "    var fig = event.data.fig;\n",
       "    if (event.target !== this) {\n",
       "        // Ignore bubbled events from children.\n",
       "        return;\n",
       "    }\n",
       "    fig.close_ws(fig, {});\n",
       "};\n",
       "\n",
       "mpl.figure.prototype._root_extra_style = function (el) {\n",
       "    el.style.boxSizing = 'content-box'; // override notebook setting of border-box.\n",
       "};\n",
       "\n",
       "mpl.figure.prototype._canvas_extra_style = function (el) {\n",
       "    // this is important to make the div 'focusable\n",
       "    el.setAttribute('tabindex', 0);\n",
       "    // reach out to IPython and tell the keyboard manager to turn it's self\n",
       "    // off when our div gets focus\n",
       "\n",
       "    // location in version 3\n",
       "    if (IPython.notebook.keyboard_manager) {\n",
       "        IPython.notebook.keyboard_manager.register_events(el);\n",
       "    } else {\n",
       "        // location in version 2\n",
       "        IPython.keyboard_manager.register_events(el);\n",
       "    }\n",
       "};\n",
       "\n",
       "mpl.figure.prototype._key_event_extra = function (event, _name) {\n",
       "    var manager = IPython.notebook.keyboard_manager;\n",
       "    if (!manager) {\n",
       "        manager = IPython.keyboard_manager;\n",
       "    }\n",
       "\n",
       "    // Check for shift+enter\n",
       "    if (event.shiftKey && event.which === 13) {\n",
       "        this.canvas_div.blur();\n",
       "        // select the cell after this one\n",
       "        var index = IPython.notebook.find_cell_index(this.cell_info[0]);\n",
       "        IPython.notebook.select(index + 1);\n",
       "    }\n",
       "};\n",
       "\n",
       "mpl.figure.prototype.handle_save = function (fig, _msg) {\n",
       "    fig.ondownload(fig, null);\n",
       "};\n",
       "\n",
       "mpl.find_output_cell = function (html_output) {\n",
       "    // Return the cell and output element which can be found *uniquely* in the notebook.\n",
       "    // Note - this is a bit hacky, but it is done because the \"notebook_saving.Notebook\"\n",
       "    // IPython event is triggered only after the cells have been serialised, which for\n",
       "    // our purposes (turning an active figure into a static one), is too late.\n",
       "    var cells = IPython.notebook.get_cells();\n",
       "    var ncells = cells.length;\n",
       "    for (var i = 0; i < ncells; i++) {\n",
       "        var cell = cells[i];\n",
       "        if (cell.cell_type === 'code') {\n",
       "            for (var j = 0; j < cell.output_area.outputs.length; j++) {\n",
       "                var data = cell.output_area.outputs[j];\n",
       "                if (data.data) {\n",
       "                    // IPython >= 3 moved mimebundle to data attribute of output\n",
       "                    data = data.data;\n",
       "                }\n",
       "                if (data['text/html'] === html_output) {\n",
       "                    return [cell, data, j];\n",
       "                }\n",
       "            }\n",
       "        }\n",
       "    }\n",
       "};\n",
       "\n",
       "// Register the function which deals with the matplotlib target/channel.\n",
       "// The kernel may be null if the page has been refreshed.\n",
       "if (IPython.notebook.kernel !== null) {\n",
       "    IPython.notebook.kernel.comm_manager.register_target(\n",
       "        'matplotlib',\n",
       "        mpl.mpl_figure_comm\n",
       "    );\n",
       "}\n"
      ],
      "text/plain": [
       "<IPython.core.display.Javascript object>"
      ]
     },
     "metadata": {},
     "output_type": "display_data"
    },
    {
     "data": {
      "text/html": [
       "<img src=\"data:image/png;base64,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\" width=\"600\">"
      ],
      "text/plain": [
       "<IPython.core.display.HTML object>"
      ]
     },
     "metadata": {},
     "output_type": "display_data"
    },
    {
     "name": "stdout",
     "output_type": "stream",
     "text": [
      "{'army': {83, 68, 93}, 'fleet': {68, 71, 88, 74, 93}}\n"
     ]
    },
    {
     "data": {
      "text/plain": [
       "{'ID': 81,\n",
       " 'env': 'land',\n",
       " 'name': 'KAL',\n",
       " 'tiles': [117],\n",
       " 'type': 'coast',\n",
       " 'edges': {'army': ['CAT', 'BRS', 'SMY'],\n",
       "  'fleet': ['BRS', 'DAR', 'CES', 'TEP', 'SMY']}}"
      ]
     },
     "execution_count": 149,
     "metadata": {},
     "output_type": "execute_result"
    }
   ],
   "source": [
    "node = random.choice(nodes)\n",
    "node = graph['ROD']\n",
    "node = nodeIDs[81]\n",
    "highlight(rgb, lbls==node['ID'])\n",
    "print(edges[node['ID']])\n",
    "node"
   ]
  },
  {
   "cell_type": "code",
   "execution_count": 150,
   "id": "8e08c564",
   "metadata": {
    "pycharm": {
     "name": "#%%\n"
    }
   },
   "outputs": [],
   "source": [
    "# save_yaml(graph, root/'graph.yaml')"
   ]
  },
  {
   "cell_type": "code",
   "execution_count": null,
   "id": "c70fd898",
   "metadata": {
    "pycharm": {
     "name": "#%%\n"
    }
   },
   "outputs": [],
   "source": []
  },
  {
   "cell_type": "code",
   "execution_count": null,
   "id": "02306eca",
   "metadata": {
    "pycharm": {
     "name": "#%%\n"
    }
   },
   "outputs": [],
   "source": []
  },
  {
   "cell_type": "code",
   "execution_count": 9,
   "id": "d15a5c78",
   "metadata": {
    "pycharm": {
     "name": "#%%\n"
    }
   },
   "outputs": [],
   "source": [
    "# Image.fromarray(clean.astype(np.int16)).save(root / \"clean.png\")\n",
    "# Image.fromarray(((clean!=0)*255).astype(np.uint8)).save(root / \"borders.png\")"
   ]
  },
  {
   "cell_type": "code",
   "execution_count": null,
   "id": "7f7fb3cd",
   "metadata": {
    "pycharm": {
     "name": "#%%\n"
    }
   },
   "outputs": [],
   "source": []
  },
  {
   "cell_type": "code",
   "execution_count": null,
   "id": "8ccfa8ac",
   "metadata": {
    "pycharm": {
     "name": "#%%\n"
    }
   },
   "outputs": [],
   "source": []
  },
  {
   "cell_type": "code",
   "execution_count": null,
   "id": "0d69566e",
   "metadata": {
    "pycharm": {
     "name": "#%%\n"
    }
   },
   "outputs": [],
   "source": []
  },
  {
   "cell_type": "code",
   "execution_count": null,
   "id": "c3b7e5df",
   "metadata": {
    "pycharm": {
     "name": "#%%\n"
    }
   },
   "outputs": [],
   "source": []
  },
  {
   "cell_type": "code",
   "execution_count": null,
   "id": "44f7aabf",
   "metadata": {
    "pycharm": {
     "name": "#%%\n"
    }
   },
   "outputs": [],
   "source": []
  },
  {
   "cell_type": "code",
   "execution_count": null,
   "id": "b549061d",
   "metadata": {
    "pycharm": {
     "name": "#%%\n"
    }
   },
   "outputs": [],
   "source": []
  },
  {
   "cell_type": "code",
   "execution_count": null,
   "id": "ae35528f",
   "metadata": {
    "pycharm": {
     "name": "#%%\n"
    }
   },
   "outputs": [],
   "source": []
  }
 ],
 "metadata": {
  "kernelspec": {
   "display_name": "Python 3",
   "language": "python",
   "name": "python3"
  },
  "language_info": {
   "codemirror_mode": {
    "name": "ipython",
    "version": 3
   },
   "file_extension": ".py",
   "mimetype": "text/x-python",
   "name": "python",
   "nbconvert_exporter": "python",
   "pygments_lexer": "ipython3",
   "version": "3.8.8"
  }
 },
 "nbformat": 4,
 "nbformat_minor": 5
}