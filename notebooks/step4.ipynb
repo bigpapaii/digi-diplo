{
 "cells": [
  {
   "cell_type": "code",
   "execution_count": 1,
   "id": "6da3b94e",
   "metadata": {},
   "outputs": [
    {
     "data": {
      "text/html": [
       "<style>.container { width:95% !important; }</style>"
      ],
      "text/plain": [
       "<IPython.core.display.HTML object>"
      ]
     },
     "metadata": {},
     "output_type": "display_data"
    }
   ],
   "source": [
    "import sys, os, time, shutil, random\n",
    "from pathlib import Path\n",
    "if '_cwd' not in locals():\n",
    "    _cwd = os.getcwd()\n",
    "    os.chdir(Path(_cwd)/'..')\n",
    "\n",
    "import numpy as np\n",
    "%matplotlib notebook\n",
    "import matplotlib.pyplot as plt\n",
    "from tabulate import tabulate\n",
    "import matplotlib.patches as mpatches\n",
    "from tqdm.notebook import tqdm\n",
    "from scipy import misc, signal\n",
    "\n",
    "from sklearn.neighbors import NearestNeighbors\n",
    "import networkx as nx\n",
    "import cv2\n",
    "import random\n",
    "import ctypes\n",
    "from scipy.signal import convolve2d, correlate2d\n",
    "import ipywidgets as widgets\n",
    "from IPython.display import display, clear_output\n",
    "from collections import Counter\n",
    "import io\n",
    "\n",
    "import scipy.sparse as sp\n",
    "from scipy.optimize import linear_sum_assignment\n",
    "\n",
    "from omnibelt import load_yaml, save_yaml, multi_index\n",
    "\n",
    "from skimage import data\n",
    "from skimage.filters import threshold_otsu\n",
    "from skimage.segmentation import clear_border\n",
    "from skimage.measure import label, regionprops\n",
    "from skimage.segmentation import *\n",
    "from skimage.segmentation import watershed, expand_labels\n",
    "from skimage.morphology import closing, square, dilation\n",
    "from skimage.color import label2rgb\n",
    "from PIL import Image\n",
    "from IPython.core.display import display, HTML\n",
    "display(HTML(\"<style>.container { width:95% !important; }</style>\"))"
   ]
  },
  {
   "cell_type": "code",
   "execution_count": 2,
   "id": "2611955a",
   "metadata": {},
   "outputs": [],
   "source": [
    "root = Path('extra/wd/step1')"
   ]
  },
  {
   "cell_type": "code",
   "execution_count": 3,
   "id": "89e96c08",
   "metadata": {},
   "outputs": [
    {
     "data": {
      "text/plain": [
       "((2232, 5988), (2232, 5988, 3), (2232, 5988))"
      ]
     },
     "execution_count": 3,
     "metadata": {},
     "output_type": "execute_result"
    }
   ],
   "source": [
    "rgba = Image.open(root/'wd_color.png').convert('RGBA')\n",
    "rgba = np.asarray(rgba)\n",
    "rgb = rgba[...,:3]\n",
    "lbls = np.array(Image.open(root/'regions.png'))\n",
    "tileimg = np.array(Image.open(root/'tiles.png'))\n",
    "lbls.shape, rgb.shape, tileimg.shape"
   ]
  },
  {
   "cell_type": "code",
   "execution_count": 4,
   "id": "9ee23a6b",
   "metadata": {},
   "outputs": [],
   "source": [
    "def showx(im, cover=lbls, fgax=None):\n",
    "    if fgax is None:\n",
    "        fgax = plt.subplots(figsize=(18,11))\n",
    "    fg, ax = fgax\n",
    "    ax.cla()\n",
    "    plt.sca(ax)\n",
    "    try:\n",
    "        plt.imshow(im.astype(int))\n",
    "        if cover is not None:\n",
    "            plt.imshow(cover%1000, alpha=0., zorder=10)\n",
    "    except ValueError:\n",
    "        plt.imshow(im)\n",
    "    \n",
    "    plt.axis('off')\n",
    "    plt.subplots_adjust(0,0,1,1)\n",
    "    return fgax\n",
    "    \n",
    "    \n",
    "\n",
    "# def get_highlight(rgb, mask, opacity=0.2):\n",
    "#     alpha = np.zeros_like(mask).astype(np.uint8)\n",
    "    \n",
    "#     img = rgb.astype(np.uint8)\n",
    "    \n",
    "#     alpha[mask!=0] = 255\n",
    "#     alpha[mask==0] = int(255*opacity)\n",
    "    \n",
    "#     H,W,C = img.shape\n",
    "    \n",
    "#     if C == 4:\n",
    "#         img[...,-1] = alpha\n",
    "#     else:\n",
    "#         img = np.concatenate([img, alpha.reshape(H,W,1)],-1)\n",
    "#     return img\n",
    "    \n",
    "# def highlight(rgb, mask, opacity=0.2, cover=lbls):\n",
    "#     img = get_highlight(rgb, mask, opacity=opacity)\n",
    "#     return showx(img, cover=cover)\n",
    "    \n",
    "    \n",
    "    \n",
    "def get_highlight(mask, _rgb=rgb, opacity=0.2):\n",
    "    alpha = np.zeros_like(mask).astype(np.uint8)\n",
    "    \n",
    "    img = _rgb.astype(np.uint8)\n",
    "    \n",
    "    alpha[mask!=0] = 255\n",
    "    alpha[mask==0] = int(255*opacity)\n",
    "    \n",
    "    H,W,C = img.shape\n",
    "    \n",
    "    if C == 4:\n",
    "        img[...,-1] = alpha\n",
    "    else:\n",
    "        img = np.concatenate([img, alpha.reshape(H,W,1)],-1)\n",
    "    return img\n",
    "    \n",
    "def highlight(mask, _rgb=rgb, opacity=0.2, cover=lbls, fgax=None):\n",
    "    img = get_highlight(mask, _rgb, opacity=opacity)\n",
    "    return showx(img, cover=cover, fgax=fgax)\n",
    "    \n",
    "\n",
    "\n",
    "    \n",
    "# showx(lbls)"
   ]
  },
  {
   "cell_type": "code",
   "execution_count": 5,
   "id": "9d6a970e",
   "metadata": {},
   "outputs": [
    {
     "data": {
      "text/plain": [
       "(743, 38)"
      ]
     },
     "execution_count": 5,
     "metadata": {},
     "output_type": "execute_result"
    }
   ],
   "source": [
    "graph = load_yaml(root/'graph.yaml')\n",
    "nodeIDs = {node['ID']:node for node in graph.values()}\n",
    "regs = {node['name']:node for node in graph.values()}\n",
    "\n",
    "bgs = load_yaml(root/'bgs.yaml')\n",
    "bgIDs = {node['ID']:node for node in bgs.values()}\n",
    "\n",
    "len(graph), len(bgs)"
   ]
  },
  {
   "cell_type": "code",
   "execution_count": 8,
   "id": "a256a2d0",
   "metadata": {},
   "outputs": [
    {
     "data": {
      "text/plain": [
       "54"
      ]
     },
     "execution_count": 8,
     "metadata": {},
     "output_type": "execute_result"
    }
   ],
   "source": [
    "# acolors = set(map(tuple,rgb.reshape(-1,3).tolist()))\n",
    "# acolors = list(acolors)\n",
    "acolors = [(174, 208, 210), (255, 174, 201), (181, 230, 29), (0, 255, 255), (175, 171, 100), (172, 205, 207), (135, 207, 213), (255, 242, 0), (255, 0, 128), (67, 67, 68), (171, 203, 205), (128, 128, 0), (66, 68, 68), (239, 228, 176), (0, 72, 78), (81, 81, 0), (127, 127, 127), (120, 114, 88), (195, 195, 195), (34, 177, 76), (0, 128, 64), (66, 69, 69), (255, 255, 255), (175, 209, 211), (163, 73, 164), (255, 127, 39), (64, 128, 128), (171, 204, 206), (198, 79, 0), (71, 79, 80), (0, 0, 0), (64, 64, 64), (82, 37, 82), (65, 67, 68), (200, 191, 231), (0, 255, 128), (67, 69, 69), (64, 0, 128), (136, 0, 21), (255, 255, 254), (67, 68, 68), (64, 65, 65), (0, 162, 232), (69, 141, 147), (185, 122, 87), (191, 0, 120), (237, 28, 36), (65, 67, 67), (174, 94, 94), (64, 64, 60), (174, 207, 209), (255, 169, 132), (63, 72, 204), (171, 205, 206)]\n",
    "len(acolors)"
   ]
  },
  {
   "cell_type": "code",
   "execution_count": 41,
   "id": "dc1750e0",
   "metadata": {},
   "outputs": [],
   "source": [
    "colornames = [None]*len(acolors)"
   ]
  },
  {
   "cell_type": "code",
   "execution_count": 68,
   "id": "1e93dcbd",
   "metadata": {},
   "outputs": [],
   "source": [
    "def get_colormask(c):\n",
    "    c = np.array(c).reshape(1,1,3)\n",
    "    mask = np.abs(c-rgb).sum(-1) == 0\n",
    "    return mask"
   ]
  },
  {
   "cell_type": "code",
   "execution_count": 44,
   "id": "3608b4b4",
   "metadata": {
    "scrolled": true
   },
   "outputs": [],
   "source": [
    "fgax = None\n",
    "\n",
    "todo = iter(tqdm([i for i, x in enumerate(colornames) if x is None]))\n",
    "prompt = widgets.Label('Player name: ')\n",
    "textbox = widgets.Text()\n",
    "# response = widgets.Label()\n",
    "\n",
    "def _update_display():\n",
    "    try:\n",
    "        idx = next(todo)\n",
    "    except StopIteration:\n",
    "        if fgax is not None:\n",
    "            plt.clf(fgax[0].num)\n",
    "        print('Done!')\n",
    "    else:\n",
    "        textbox.value = ''\n",
    "        textbox.index = idx\n",
    "        display(widgets.HBox([prompt, textbox]))\n",
    "        global fgax\n",
    "        fgax = highlight(expand_labels(get_colormask(acolors[idx]), 20), fgax=fgax)\n",
    "        \n",
    "        \n",
    "def _on_submit_func(sender):\n",
    "    idx = textbox.index\n",
    "    colornames[idx] = textbox.value\n",
    "    _update_display()\n",
    "textbox.on_submit(_on_submit_func)\n",
    "\n",
    "_update_display()"
   ]
  },
  {
   "cell_type": "code",
   "execution_count": 49,
   "id": "60c850bb",
   "metadata": {},
   "outputs": [],
   "source": [
    "# colornames = ['', 'Spanish Empire', 'Italian Empire', 'Argentine Republic', 'Omani Empire', '', '', 'Qing Empire', 'Japanese Empire', '', '', '', '', '', '', '', 'German Empire', '', '', 'Brazilian Empire', 'Ethiopian Empire', '', '', '', 'Russian Empire', 'Dutch Empire', 'Qajar Empire', '', 'Chilean Republic', '', '', '', '', '', 'Siamese Kingdom', 'Sweden-Norway', '', '', 'Austria-Hungary', 'Portuguese Empire', '', '', 'French Empire', '', 'Zulu Kingdom', 'Gran Colombia', 'British Empire', '', 'Ottoman Empire', '', '', 'Mexican Republic', 'United States', '']"
   ]
  },
  {
   "cell_type": "code",
   "execution_count": 84,
   "id": "26b2a1ae",
   "metadata": {},
   "outputs": [],
   "source": [
    "tohex = lambda color: '#' + ''.join(hex(c)[2:].zfill(2) for c in color)"
   ]
  },
  {
   "cell_type": "code",
   "execution_count": 85,
   "id": "ec3acd47",
   "metadata": {},
   "outputs": [
    {
     "data": {
      "application/vnd.jupyter.widget-view+json": {
       "model_id": "c5c1e59636d64384a5a5a49bcbf7e91d",
       "version_major": 2,
       "version_minor": 0
      },
      "text/plain": [
       "  0%|          | 0/54 [00:00<?, ?it/s]"
      ]
     },
     "metadata": {},
     "output_type": "display_data"
    },
    {
     "data": {
      "text/plain": [
       "24"
      ]
     },
     "execution_count": 85,
     "metadata": {},
     "output_type": "execute_result"
    }
   ],
   "source": [
    "players = {}\n",
    "for name, color in tqdm(zip(colornames, acolors), total=len(acolors)):\n",
    "    if len(name):\n",
    "        players[name] = {'color': tohex(color), \n",
    "                         'army': [], 'fleet': [],\n",
    "                         'territory':[nodeIDs[i]['name'] for i in set(lbls[get_colormask(color)].tolist()) if i in nodeIDs]}\n",
    "len(players)"
   ]
  },
  {
   "cell_type": "code",
   "execution_count": 87,
   "id": "fe5f1472",
   "metadata": {},
   "outputs": [],
   "source": [
    "# players"
   ]
  },
  {
   "cell_type": "code",
   "execution_count": 88,
   "id": "d6b674f4",
   "metadata": {},
   "outputs": [],
   "source": [
    "# save_yaml(players, root/'players.yaml');"
   ]
  },
  {
   "cell_type": "code",
   "execution_count": null,
   "id": "ae2f1897",
   "metadata": {},
   "outputs": [],
   "source": []
  },
  {
   "cell_type": "code",
   "execution_count": null,
   "id": "beb78a13",
   "metadata": {},
   "outputs": [],
   "source": []
  }
 ],
 "metadata": {
  "kernelspec": {
   "display_name": "Python 3",
   "language": "python",
   "name": "python3"
  },
  "language_info": {
   "codemirror_mode": {
    "name": "ipython",
    "version": 3
   },
   "file_extension": ".py",
   "mimetype": "text/x-python",
   "name": "python",
   "nbconvert_exporter": "python",
   "pygments_lexer": "ipython3",
   "version": "3.8.8"
  }
 },
 "nbformat": 4,
 "nbformat_minor": 5
}
