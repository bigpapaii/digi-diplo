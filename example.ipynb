{
 "cells": [
  {
   "cell_type": "code",
   "execution_count": null,
   "metadata": {},
   "outputs": [],
   "source": []
  },
  {
   "cell_type": "code",
   "execution_count": 1,
   "metadata": {},
   "outputs": [
    {
     "data": {
      "text/plain": [
       "defaultdict(dict,\n",
       "            {'Italy': {[FLEET -- Bulgaria South Coast]: {'Aegean Sea',\n",
       "               'Constantinople Coast'}},\n",
       "             'Austria': {[TROOP -- Bulgaria]: None, [TROOP -- Greece]: None}})"
      ]
     },
     "execution_count": 1,
     "metadata": {},
     "output_type": "execute_result"
    }
   ],
   "source": [
    "from pydip.map.predefined.vanilla_dip import generate_map\n",
    "from pydip.player.command.command import SupportCommand\n",
    "from pydip.player.player import Player\n",
    "from pydip.player.unit import Unit, UnitTypes\n",
    "from pydip.test.command_helper import CommandType, CommandHelper\n",
    "from pydip.test.player_helper import PlayerHelper\n",
    "from pydip.test.turn_helper import TurnHelper\n",
    "\n",
    "helper = TurnHelper([\n",
    "        PlayerHelper('Italy', [\n",
    "#             CommandHelper(CommandType.HOLD, UnitTypes.FLEET, 'Bulgaria South Coast'),\n",
    "            CommandHelper(CommandType.MOVE, UnitTypes.FLEET, 'Bulgaria South Coast', 'Greece Coast'),\n",
    "#             CommandHelper(CommandType.MOVE, UnitTypes.TROOP, 'Bulgaria', 'Greece'),\n",
    "        ]),\n",
    "        PlayerHelper('Austria', [\n",
    "            CommandHelper(CommandType.MOVE, UnitTypes.TROOP, 'Serbia', 'Bulgaria'),\n",
    "            CommandHelper(CommandType.SUPPORT, UnitTypes.TROOP, 'Greece', 'Serbia', 'Bulgaria'),\n",
    "#             CommandHelper(CommandType.MOVE, UnitTypes.FLEET, 'Greece Coast', 'Bulgaria South Coast'),\n",
    "#             CommandHelper(CommandType.SUPPORT, UnitTypes.TROOP, 'Serbia', 'Greece Coast', 'Bulgaria South Coast'),\n",
    "        ])\n",
    "    ])\n",
    "\n",
    "result = helper.resolve()\n",
    "# assert result == {\n",
    "#     'Germany': {\n",
    "# #         Unit(UnitTypes.FLEET, 'Kiel Coast'): None,\n",
    "#         Unit(UnitTypes.TROOP, 'Munich'): None,\n",
    "#         Unit(UnitTypes.TROOP, 'Berlin'): None,\n",
    "#     },\n",
    "#     'Russia': {\n",
    "#         Unit(UnitTypes.TROOP, 'Silesia'): None,\n",
    "# #         Unit(UnitTypes.FLEET, 'Baltic Sea'): None,\n",
    "#     },\n",
    "# }\n",
    "result"
   ]
  },
  {
   "cell_type": "code",
   "execution_count": 17,
   "metadata": {},
   "outputs": [
    {
     "data": {
      "text/plain": [
       "defaultdict(dict,\n",
       "            {'Germany': {[TROOP -- Silesia]: None, [TROOP -- Berlin]: None},\n",
       "             'Russia': {[TROOP -- Silesia]: {'Bohemia',\n",
       "               'Galicia',\n",
       "               'Prussia',\n",
       "               'Warsaw'}}})"
      ]
     },
     "execution_count": 17,
     "metadata": {},
     "output_type": "execute_result"
    }
   ],
   "source": [
    "result"
   ]
  },
  {
   "cell_type": "code",
   "execution_count": null,
   "metadata": {},
   "outputs": [],
   "source": []
  },
  {
   "cell_type": "code",
   "execution_count": 12,
   "metadata": {},
   "outputs": [
    {
     "data": {
      "text/plain": [
       "defaultdict(dict,\n",
       "            {'Germany': {[TROOP -- Warsaw]: None, [TROOP -- Silesia]: None},\n",
       "             'Russia': {[TROOP -- Warsaw]: {'Galicia',\n",
       "               'Livonia',\n",
       "               'Moscow',\n",
       "               'Ukraine'}}})"
      ]
     },
     "execution_count": 12,
     "metadata": {},
     "output_type": "execute_result"
    }
   ],
   "source": [
    "result"
   ]
  },
  {
   "cell_type": "code",
   "execution_count": 9,
   "metadata": {},
   "outputs": [],
   "source": []
  },
  {
   "cell_type": "code",
   "execution_count": 1,
   "metadata": {},
   "outputs": [
    {
     "data": {
      "text/plain": [
       "defaultdict(dict,\n",
       "            {'Italy': {[FLEET -- Bulgaria South Coast]: None},\n",
       "             'Austria': {[TROOP -- Serbia]: None, [TROOP -- Greece]: None}})"
      ]
     },
     "execution_count": 1,
     "metadata": {},
     "output_type": "execute_result"
    }
   ],
   "source": [
    "from pydip.player.unit import Unit, UnitTypes\n",
    "from pydip.test.command_helper import CommandType, CommandHelper\n",
    "from pydip.test.player_helper import PlayerHelper\n",
    "from pydip.test.turn_helper import TurnHelper\n",
    "\n",
    "helper = TurnHelper([\n",
    "        PlayerHelper('Italy', [\n",
    "            CommandHelper(CommandType.MOVE, UnitTypes.FLEET, 'Bulgaria South Coast', 'Greece Coast'),\n",
    "        ]),\n",
    "        PlayerHelper('Austria', [\n",
    "            CommandHelper(CommandType.MOVE, UnitTypes.TROOP, 'Serbia', 'Bulgaria'),\n",
    "            CommandHelper(CommandType.SUPPORT, UnitTypes.TROOP, 'Greece', 'Serbia', 'Bulgaria'),\n",
    "        ])\n",
    "    ])\n",
    "\n",
    "result = helper.resolve()\n",
    "assert result == {\n",
    "    'Austria': {\n",
    "        Unit(UnitTypes.TROOP, 'Serbia'): None,\n",
    "        Unit(UnitTypes.TROOP, 'Greece'): None,\n",
    "    },\n",
    "    'Italy': {\n",
    "        Unit(UnitTypes.FLEET, 'Bulgaria South Coast'): None,\n",
    "    },\n",
    "}\n",
    "result"
   ]
  },
  {
   "cell_type": "code",
   "execution_count": null,
   "metadata": {},
   "outputs": [],
   "source": []
  },
  {
   "cell_type": "code",
   "execution_count": null,
   "metadata": {},
   "outputs": [],
   "source": []
  },
  {
   "cell_type": "code",
   "execution_count": null,
   "metadata": {},
   "outputs": [],
   "source": []
  }
 ],
 "metadata": {
  "kernelspec": {
   "display_name": "Python 3",
   "language": "python",
   "name": "python3"
  },
  "language_info": {
   "codemirror_mode": {
    "name": "ipython",
    "version": 3
   },
   "file_extension": ".py",
   "mimetype": "text/x-python",
   "name": "python",
   "nbconvert_exporter": "python",
   "pygments_lexer": "ipython3",
   "version": "3.7.4"
  }
 },
 "nbformat": 4,
 "nbformat_minor": 4
}
